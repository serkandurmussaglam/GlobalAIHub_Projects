{
  "nbformat": 4,
  "nbformat_minor": 0,
  "metadata": {
    "colab": {
      "name": "Final Project.ipynb",
      "provenance": [],
      "collapsed_sections": []
    },
    "kernelspec": {
      "name": "python3",
      "display_name": "Python 3"
    },
    "language_info": {
      "name": "python"
    }
  },
  "cells": [
    {
      "cell_type": "markdown",
      "source": [
        "**Medikal Maliyet Analizi**\n",
        "\n",
        "---\n",
        "\n"
      ],
      "metadata": {
        "id": "2Am5utQil0oc"
      }
    },
    {
      "cell_type": "markdown",
      "source": [
        "Kullanılan data seti: https://www.kaggle.com/datasets/mirichoi0218/insurance\n",
        "\n",
        "Projenin amacı, verilen değişkenlere göre bir kişinin sağlık sigortasının yaklaşık ne kadar masraflı olacagını tahmin etmektir."
      ],
      "metadata": {
        "id": "PYagbeTHlxwU"
      }
    },
    {
      "cell_type": "code",
      "source": [
        "#Kullanılacak kütüphanelerin eklenmesi\n",
        "import pandas as pd\n",
        "import numpy as np\n",
        "import matplotlib.pyplot as plt\n",
        "import seaborn as sns"
      ],
      "metadata": {
        "id": "FYH03Z43mCNb"
      },
      "execution_count": 1,
      "outputs": []
    },
    {
      "cell_type": "code",
      "source": [
        "#Datanın import edilmesi\n",
        "df = pd.read_csv('insurance.csv')"
      ],
      "metadata": {
        "id": "lYBMavIUmC7o"
      },
      "execution_count": 2,
      "outputs": []
    },
    {
      "cell_type": "code",
      "source": [
        "#Eklenen orjinal datayı korumak için kopya oluşturduk bunun üzerinde çalışacağız\n",
        "data = df.copy()"
      ],
      "metadata": {
        "id": "rCuxs-5BmC5O"
      },
      "execution_count": 3,
      "outputs": []
    },
    {
      "cell_type": "markdown",
      "source": [
        "**Datanın incelenmesi**"
      ],
      "metadata": {
        "id": "Q5e5zSKp97F7"
      }
    },
    {
      "cell_type": "code",
      "source": [
        "data.head()"
      ],
      "metadata": {
        "colab": {
          "base_uri": "https://localhost:8080/",
          "height": 206
        },
        "id": "Xh3mIQGtmC2l",
        "outputId": "c807e48b-0a21-426c-c657-9b8db471c304"
      },
      "execution_count": 4,
      "outputs": [
        {
          "output_type": "execute_result",
          "data": {
            "text/plain": [
              "   age     sex     bmi  children smoker     region      charges\n",
              "0   19  female  27.900         0    yes  southwest  16884.92400\n",
              "1   18    male  33.770         1     no  southeast   1725.55230\n",
              "2   28    male  33.000         3     no  southeast   4449.46200\n",
              "3   33    male  22.705         0     no  northwest  21984.47061\n",
              "4   32    male  28.880         0     no  northwest   3866.85520"
            ],
            "text/html": [
              "\n",
              "  <div id=\"df-17c58e62-758e-4222-951d-cdf7b36fdc5c\">\n",
              "    <div class=\"colab-df-container\">\n",
              "      <div>\n",
              "<style scoped>\n",
              "    .dataframe tbody tr th:only-of-type {\n",
              "        vertical-align: middle;\n",
              "    }\n",
              "\n",
              "    .dataframe tbody tr th {\n",
              "        vertical-align: top;\n",
              "    }\n",
              "\n",
              "    .dataframe thead th {\n",
              "        text-align: right;\n",
              "    }\n",
              "</style>\n",
              "<table border=\"1\" class=\"dataframe\">\n",
              "  <thead>\n",
              "    <tr style=\"text-align: right;\">\n",
              "      <th></th>\n",
              "      <th>age</th>\n",
              "      <th>sex</th>\n",
              "      <th>bmi</th>\n",
              "      <th>children</th>\n",
              "      <th>smoker</th>\n",
              "      <th>region</th>\n",
              "      <th>charges</th>\n",
              "    </tr>\n",
              "  </thead>\n",
              "  <tbody>\n",
              "    <tr>\n",
              "      <th>0</th>\n",
              "      <td>19</td>\n",
              "      <td>female</td>\n",
              "      <td>27.900</td>\n",
              "      <td>0</td>\n",
              "      <td>yes</td>\n",
              "      <td>southwest</td>\n",
              "      <td>16884.92400</td>\n",
              "    </tr>\n",
              "    <tr>\n",
              "      <th>1</th>\n",
              "      <td>18</td>\n",
              "      <td>male</td>\n",
              "      <td>33.770</td>\n",
              "      <td>1</td>\n",
              "      <td>no</td>\n",
              "      <td>southeast</td>\n",
              "      <td>1725.55230</td>\n",
              "    </tr>\n",
              "    <tr>\n",
              "      <th>2</th>\n",
              "      <td>28</td>\n",
              "      <td>male</td>\n",
              "      <td>33.000</td>\n",
              "      <td>3</td>\n",
              "      <td>no</td>\n",
              "      <td>southeast</td>\n",
              "      <td>4449.46200</td>\n",
              "    </tr>\n",
              "    <tr>\n",
              "      <th>3</th>\n",
              "      <td>33</td>\n",
              "      <td>male</td>\n",
              "      <td>22.705</td>\n",
              "      <td>0</td>\n",
              "      <td>no</td>\n",
              "      <td>northwest</td>\n",
              "      <td>21984.47061</td>\n",
              "    </tr>\n",
              "    <tr>\n",
              "      <th>4</th>\n",
              "      <td>32</td>\n",
              "      <td>male</td>\n",
              "      <td>28.880</td>\n",
              "      <td>0</td>\n",
              "      <td>no</td>\n",
              "      <td>northwest</td>\n",
              "      <td>3866.85520</td>\n",
              "    </tr>\n",
              "  </tbody>\n",
              "</table>\n",
              "</div>\n",
              "      <button class=\"colab-df-convert\" onclick=\"convertToInteractive('df-17c58e62-758e-4222-951d-cdf7b36fdc5c')\"\n",
              "              title=\"Convert this dataframe to an interactive table.\"\n",
              "              style=\"display:none;\">\n",
              "        \n",
              "  <svg xmlns=\"http://www.w3.org/2000/svg\" height=\"24px\"viewBox=\"0 0 24 24\"\n",
              "       width=\"24px\">\n",
              "    <path d=\"M0 0h24v24H0V0z\" fill=\"none\"/>\n",
              "    <path d=\"M18.56 5.44l.94 2.06.94-2.06 2.06-.94-2.06-.94-.94-2.06-.94 2.06-2.06.94zm-11 1L8.5 8.5l.94-2.06 2.06-.94-2.06-.94L8.5 2.5l-.94 2.06-2.06.94zm10 10l.94 2.06.94-2.06 2.06-.94-2.06-.94-.94-2.06-.94 2.06-2.06.94z\"/><path d=\"M17.41 7.96l-1.37-1.37c-.4-.4-.92-.59-1.43-.59-.52 0-1.04.2-1.43.59L10.3 9.45l-7.72 7.72c-.78.78-.78 2.05 0 2.83L4 21.41c.39.39.9.59 1.41.59.51 0 1.02-.2 1.41-.59l7.78-7.78 2.81-2.81c.8-.78.8-2.07 0-2.86zM5.41 20L4 18.59l7.72-7.72 1.47 1.35L5.41 20z\"/>\n",
              "  </svg>\n",
              "      </button>\n",
              "      \n",
              "  <style>\n",
              "    .colab-df-container {\n",
              "      display:flex;\n",
              "      flex-wrap:wrap;\n",
              "      gap: 12px;\n",
              "    }\n",
              "\n",
              "    .colab-df-convert {\n",
              "      background-color: #E8F0FE;\n",
              "      border: none;\n",
              "      border-radius: 50%;\n",
              "      cursor: pointer;\n",
              "      display: none;\n",
              "      fill: #1967D2;\n",
              "      height: 32px;\n",
              "      padding: 0 0 0 0;\n",
              "      width: 32px;\n",
              "    }\n",
              "\n",
              "    .colab-df-convert:hover {\n",
              "      background-color: #E2EBFA;\n",
              "      box-shadow: 0px 1px 2px rgba(60, 64, 67, 0.3), 0px 1px 3px 1px rgba(60, 64, 67, 0.15);\n",
              "      fill: #174EA6;\n",
              "    }\n",
              "\n",
              "    [theme=dark] .colab-df-convert {\n",
              "      background-color: #3B4455;\n",
              "      fill: #D2E3FC;\n",
              "    }\n",
              "\n",
              "    [theme=dark] .colab-df-convert:hover {\n",
              "      background-color: #434B5C;\n",
              "      box-shadow: 0px 1px 3px 1px rgba(0, 0, 0, 0.15);\n",
              "      filter: drop-shadow(0px 1px 2px rgba(0, 0, 0, 0.3));\n",
              "      fill: #FFFFFF;\n",
              "    }\n",
              "  </style>\n",
              "\n",
              "      <script>\n",
              "        const buttonEl =\n",
              "          document.querySelector('#df-17c58e62-758e-4222-951d-cdf7b36fdc5c button.colab-df-convert');\n",
              "        buttonEl.style.display =\n",
              "          google.colab.kernel.accessAllowed ? 'block' : 'none';\n",
              "\n",
              "        async function convertToInteractive(key) {\n",
              "          const element = document.querySelector('#df-17c58e62-758e-4222-951d-cdf7b36fdc5c');\n",
              "          const dataTable =\n",
              "            await google.colab.kernel.invokeFunction('convertToInteractive',\n",
              "                                                     [key], {});\n",
              "          if (!dataTable) return;\n",
              "\n",
              "          const docLinkHtml = 'Like what you see? Visit the ' +\n",
              "            '<a target=\"_blank\" href=https://colab.research.google.com/notebooks/data_table.ipynb>data table notebook</a>'\n",
              "            + ' to learn more about interactive tables.';\n",
              "          element.innerHTML = '';\n",
              "          dataTable['output_type'] = 'display_data';\n",
              "          await google.colab.output.renderOutput(dataTable, element);\n",
              "          const docLink = document.createElement('div');\n",
              "          docLink.innerHTML = docLinkHtml;\n",
              "          element.appendChild(docLink);\n",
              "        }\n",
              "      </script>\n",
              "    </div>\n",
              "  </div>\n",
              "  "
            ]
          },
          "metadata": {},
          "execution_count": 4
        }
      ]
    },
    {
      "cell_type": "code",
      "source": [
        "data.shape "
      ],
      "metadata": {
        "colab": {
          "base_uri": "https://localhost:8080/"
        },
        "id": "eBROTG9dnVKz",
        "outputId": "d5b3fd70-2d40-4fed-c44b-de121b2abc52"
      },
      "execution_count": 5,
      "outputs": [
        {
          "output_type": "execute_result",
          "data": {
            "text/plain": [
              "(1338, 7)"
            ]
          },
          "metadata": {},
          "execution_count": 5
        }
      ]
    },
    {
      "cell_type": "code",
      "source": [
        "data.isnull().sum()"
      ],
      "metadata": {
        "colab": {
          "base_uri": "https://localhost:8080/"
        },
        "id": "kAPK43Ei1Bo1",
        "outputId": "93045c60-c412-4f9a-e552-0d50fc55c7bf"
      },
      "execution_count": 6,
      "outputs": [
        {
          "output_type": "execute_result",
          "data": {
            "text/plain": [
              "age         0\n",
              "sex         0\n",
              "bmi         0\n",
              "children    0\n",
              "smoker      0\n",
              "region      0\n",
              "charges     0\n",
              "dtype: int64"
            ]
          },
          "metadata": {},
          "execution_count": 6
        }
      ]
    },
    {
      "cell_type": "code",
      "source": [
        "data.info()"
      ],
      "metadata": {
        "colab": {
          "base_uri": "https://localhost:8080/"
        },
        "id": "Kdc-5JX6mCx3",
        "outputId": "c45464fd-2eb4-4eec-dc70-bb8952c277f8"
      },
      "execution_count": 7,
      "outputs": [
        {
          "output_type": "stream",
          "name": "stdout",
          "text": [
            "<class 'pandas.core.frame.DataFrame'>\n",
            "RangeIndex: 1338 entries, 0 to 1337\n",
            "Data columns (total 7 columns):\n",
            " #   Column    Non-Null Count  Dtype  \n",
            "---  ------    --------------  -----  \n",
            " 0   age       1338 non-null   int64  \n",
            " 1   sex       1338 non-null   object \n",
            " 2   bmi       1338 non-null   float64\n",
            " 3   children  1338 non-null   int64  \n",
            " 4   smoker    1338 non-null   object \n",
            " 5   region    1338 non-null   object \n",
            " 6   charges   1338 non-null   float64\n",
            "dtypes: float64(2), int64(2), object(3)\n",
            "memory usage: 73.3+ KB\n"
          ]
        }
      ]
    },
    {
      "cell_type": "code",
      "source": [
        "data.describe().T"
      ],
      "metadata": {
        "colab": {
          "base_uri": "https://localhost:8080/",
          "height": 175
        },
        "id": "k4EzPdqrmCqE",
        "outputId": "8e969d58-4a19-4dca-e181-9e010ffe6f64"
      },
      "execution_count": 8,
      "outputs": [
        {
          "output_type": "execute_result",
          "data": {
            "text/plain": [
              "           count          mean           std        min         25%       50%  \\\n",
              "age       1338.0     39.207025     14.049960    18.0000    27.00000    39.000   \n",
              "bmi       1338.0     30.663397      6.098187    15.9600    26.29625    30.400   \n",
              "children  1338.0      1.094918      1.205493     0.0000     0.00000     1.000   \n",
              "charges   1338.0  13270.422265  12110.011237  1121.8739  4740.28715  9382.033   \n",
              "\n",
              "                   75%          max  \n",
              "age          51.000000     64.00000  \n",
              "bmi          34.693750     53.13000  \n",
              "children      2.000000      5.00000  \n",
              "charges   16639.912515  63770.42801  "
            ],
            "text/html": [
              "\n",
              "  <div id=\"df-78535a14-a1b1-4211-b547-f2fb6a244cca\">\n",
              "    <div class=\"colab-df-container\">\n",
              "      <div>\n",
              "<style scoped>\n",
              "    .dataframe tbody tr th:only-of-type {\n",
              "        vertical-align: middle;\n",
              "    }\n",
              "\n",
              "    .dataframe tbody tr th {\n",
              "        vertical-align: top;\n",
              "    }\n",
              "\n",
              "    .dataframe thead th {\n",
              "        text-align: right;\n",
              "    }\n",
              "</style>\n",
              "<table border=\"1\" class=\"dataframe\">\n",
              "  <thead>\n",
              "    <tr style=\"text-align: right;\">\n",
              "      <th></th>\n",
              "      <th>count</th>\n",
              "      <th>mean</th>\n",
              "      <th>std</th>\n",
              "      <th>min</th>\n",
              "      <th>25%</th>\n",
              "      <th>50%</th>\n",
              "      <th>75%</th>\n",
              "      <th>max</th>\n",
              "    </tr>\n",
              "  </thead>\n",
              "  <tbody>\n",
              "    <tr>\n",
              "      <th>age</th>\n",
              "      <td>1338.0</td>\n",
              "      <td>39.207025</td>\n",
              "      <td>14.049960</td>\n",
              "      <td>18.0000</td>\n",
              "      <td>27.00000</td>\n",
              "      <td>39.000</td>\n",
              "      <td>51.000000</td>\n",
              "      <td>64.00000</td>\n",
              "    </tr>\n",
              "    <tr>\n",
              "      <th>bmi</th>\n",
              "      <td>1338.0</td>\n",
              "      <td>30.663397</td>\n",
              "      <td>6.098187</td>\n",
              "      <td>15.9600</td>\n",
              "      <td>26.29625</td>\n",
              "      <td>30.400</td>\n",
              "      <td>34.693750</td>\n",
              "      <td>53.13000</td>\n",
              "    </tr>\n",
              "    <tr>\n",
              "      <th>children</th>\n",
              "      <td>1338.0</td>\n",
              "      <td>1.094918</td>\n",
              "      <td>1.205493</td>\n",
              "      <td>0.0000</td>\n",
              "      <td>0.00000</td>\n",
              "      <td>1.000</td>\n",
              "      <td>2.000000</td>\n",
              "      <td>5.00000</td>\n",
              "    </tr>\n",
              "    <tr>\n",
              "      <th>charges</th>\n",
              "      <td>1338.0</td>\n",
              "      <td>13270.422265</td>\n",
              "      <td>12110.011237</td>\n",
              "      <td>1121.8739</td>\n",
              "      <td>4740.28715</td>\n",
              "      <td>9382.033</td>\n",
              "      <td>16639.912515</td>\n",
              "      <td>63770.42801</td>\n",
              "    </tr>\n",
              "  </tbody>\n",
              "</table>\n",
              "</div>\n",
              "      <button class=\"colab-df-convert\" onclick=\"convertToInteractive('df-78535a14-a1b1-4211-b547-f2fb6a244cca')\"\n",
              "              title=\"Convert this dataframe to an interactive table.\"\n",
              "              style=\"display:none;\">\n",
              "        \n",
              "  <svg xmlns=\"http://www.w3.org/2000/svg\" height=\"24px\"viewBox=\"0 0 24 24\"\n",
              "       width=\"24px\">\n",
              "    <path d=\"M0 0h24v24H0V0z\" fill=\"none\"/>\n",
              "    <path d=\"M18.56 5.44l.94 2.06.94-2.06 2.06-.94-2.06-.94-.94-2.06-.94 2.06-2.06.94zm-11 1L8.5 8.5l.94-2.06 2.06-.94-2.06-.94L8.5 2.5l-.94 2.06-2.06.94zm10 10l.94 2.06.94-2.06 2.06-.94-2.06-.94-.94-2.06-.94 2.06-2.06.94z\"/><path d=\"M17.41 7.96l-1.37-1.37c-.4-.4-.92-.59-1.43-.59-.52 0-1.04.2-1.43.59L10.3 9.45l-7.72 7.72c-.78.78-.78 2.05 0 2.83L4 21.41c.39.39.9.59 1.41.59.51 0 1.02-.2 1.41-.59l7.78-7.78 2.81-2.81c.8-.78.8-2.07 0-2.86zM5.41 20L4 18.59l7.72-7.72 1.47 1.35L5.41 20z\"/>\n",
              "  </svg>\n",
              "      </button>\n",
              "      \n",
              "  <style>\n",
              "    .colab-df-container {\n",
              "      display:flex;\n",
              "      flex-wrap:wrap;\n",
              "      gap: 12px;\n",
              "    }\n",
              "\n",
              "    .colab-df-convert {\n",
              "      background-color: #E8F0FE;\n",
              "      border: none;\n",
              "      border-radius: 50%;\n",
              "      cursor: pointer;\n",
              "      display: none;\n",
              "      fill: #1967D2;\n",
              "      height: 32px;\n",
              "      padding: 0 0 0 0;\n",
              "      width: 32px;\n",
              "    }\n",
              "\n",
              "    .colab-df-convert:hover {\n",
              "      background-color: #E2EBFA;\n",
              "      box-shadow: 0px 1px 2px rgba(60, 64, 67, 0.3), 0px 1px 3px 1px rgba(60, 64, 67, 0.15);\n",
              "      fill: #174EA6;\n",
              "    }\n",
              "\n",
              "    [theme=dark] .colab-df-convert {\n",
              "      background-color: #3B4455;\n",
              "      fill: #D2E3FC;\n",
              "    }\n",
              "\n",
              "    [theme=dark] .colab-df-convert:hover {\n",
              "      background-color: #434B5C;\n",
              "      box-shadow: 0px 1px 3px 1px rgba(0, 0, 0, 0.15);\n",
              "      filter: drop-shadow(0px 1px 2px rgba(0, 0, 0, 0.3));\n",
              "      fill: #FFFFFF;\n",
              "    }\n",
              "  </style>\n",
              "\n",
              "      <script>\n",
              "        const buttonEl =\n",
              "          document.querySelector('#df-78535a14-a1b1-4211-b547-f2fb6a244cca button.colab-df-convert');\n",
              "        buttonEl.style.display =\n",
              "          google.colab.kernel.accessAllowed ? 'block' : 'none';\n",
              "\n",
              "        async function convertToInteractive(key) {\n",
              "          const element = document.querySelector('#df-78535a14-a1b1-4211-b547-f2fb6a244cca');\n",
              "          const dataTable =\n",
              "            await google.colab.kernel.invokeFunction('convertToInteractive',\n",
              "                                                     [key], {});\n",
              "          if (!dataTable) return;\n",
              "\n",
              "          const docLinkHtml = 'Like what you see? Visit the ' +\n",
              "            '<a target=\"_blank\" href=https://colab.research.google.com/notebooks/data_table.ipynb>data table notebook</a>'\n",
              "            + ' to learn more about interactive tables.';\n",
              "          element.innerHTML = '';\n",
              "          dataTable['output_type'] = 'display_data';\n",
              "          await google.colab.output.renderOutput(dataTable, element);\n",
              "          const docLink = document.createElement('div');\n",
              "          docLink.innerHTML = docLinkHtml;\n",
              "          element.appendChild(docLink);\n",
              "        }\n",
              "      </script>\n",
              "    </div>\n",
              "  </div>\n",
              "  "
            ]
          },
          "metadata": {},
          "execution_count": 8
        }
      ]
    },
    {
      "cell_type": "markdown",
      "source": [
        "**Bmi(Vücut Kitle İndeksi)’nin dağılımı**"
      ],
      "metadata": {
        "id": "pefg4Hlj-DiE"
      }
    },
    {
      "cell_type": "code",
      "source": [
        "data['bmi'].describe()"
      ],
      "metadata": {
        "colab": {
          "base_uri": "https://localhost:8080/"
        },
        "id": "rDFBz2IHoGHj",
        "outputId": "e425f2ec-1713-4d51-c4d3-2e05825a368f"
      },
      "execution_count": 9,
      "outputs": [
        {
          "output_type": "execute_result",
          "data": {
            "text/plain": [
              "count    1338.000000\n",
              "mean       30.663397\n",
              "std         6.098187\n",
              "min        15.960000\n",
              "25%        26.296250\n",
              "50%        30.400000\n",
              "75%        34.693750\n",
              "max        53.130000\n",
              "Name: bmi, dtype: float64"
            ]
          },
          "metadata": {},
          "execution_count": 9
        }
      ]
    },
    {
      "cell_type": "code",
      "source": [
        "plt.hist(data['bmi'], edgecolor = 'black')\n",
        "plt.title('BMI Dağılımı')\n",
        "plt.show()"
      ],
      "metadata": {
        "colab": {
          "base_uri": "https://localhost:8080/",
          "height": 281
        },
        "id": "6i92EDtD9qLr",
        "outputId": "a3a224cd-4ded-436b-ff11-a2671ca5387c"
      },
      "execution_count": 10,
      "outputs": [
        {
          "output_type": "display_data",
          "data": {
            "text/plain": [
              "<Figure size 432x288 with 1 Axes>"
            ],
            "image/png": "[encoded data removed]"
          },
          "metadata": {
            "needs_background": "light"
          }
        }
      ]
    },
    {
      "cell_type": "markdown",
      "source": [
        "**“smoker” ile “charges” arasındaki ilişkiyi inceleyiniz**"
      ],
      "metadata": {
        "id": "1Q_G4we4-RYA"
      }
    },
    {
      "cell_type": "code",
      "source": [
        "#Sigara içenler ile içmeyenlerin ödediği ortalama sigorta masrafına bakabiliriz\n",
        "\n",
        "#Sigara içme durumu bar chartımızda x aksımız olacak\n",
        "smoker_status = data['smoker'].unique()\n",
        "\n",
        "#Sigara içme durumuna göre ortalama sigorta harcamalarını bulup bar chart da ekleyerek özetliyoruz\n",
        "avg_charge_smoker_yes = data.loc[data['smoker'] == 'yes', 'charges'].mean()\n",
        "avg_charge_smoker_no = data.loc[data['smoker'] == 'no', 'charges'].mean()\n",
        "\n",
        "print(f'Sigara içenlerin ortalama sigorta masrafı {avg_charge_smoker_yes} iken sigara içmeyenlerin ortalama sigorta masrafı {avg_charge_smoker_no}')\n",
        "\n",
        "y = np.array([avg_charge_smoker_yes, avg_charge_smoker_no])\n",
        "plt.bar(smoker_status, y)\n",
        "plt.xlabel('Sigara içme durumu')\n",
        "plt.ylabel('Ortalama sigorta masrafı')\n",
        "plt.show()"
      ],
      "metadata": {
        "colab": {
          "base_uri": "https://localhost:8080/",
          "height": 316
        },
        "id": "iSWtWzKupq7e",
        "outputId": "12113e53-2a6e-44c6-d36a-005d4145b51e"
      },
      "execution_count": 11,
      "outputs": [
        {
          "output_type": "stream",
          "name": "stdout",
          "text": [
            "Sigara içenlerin ortalama sigorta masrafı 32050.23183153284 iken sigara içmeyenlerin ortalama sigorta masrafı 8434.268297856204\n"
          ]
        },
        {
          "output_type": "display_data",
          "data": {
            "text/plain": [
              "<Figure size 432x288 with 1 Axes>"
            ],
            "image/png": "[encoded data removed]"
          },
          "metadata": {
            "needs_background": "light"
          }
        }
      ]
    },
    {
      "cell_type": "markdown",
      "source": [
        "**“smoker” (Sigara tüketen) ile “region”(Bölge) arasındaki ilişkiyi inceleyiniz.**"
      ],
      "metadata": {
        "id": "qiE4cigu_POL"
      }
    },
    {
      "cell_type": "code",
      "source": [
        "reg_smo = data.groupby(['region', 'smoker'])['smoker'].count()\n",
        "reg_smo = reg_smo.to_frame()\n",
        "\n",
        "reg_smo\n"
      ],
      "metadata": {
        "colab": {
          "base_uri": "https://localhost:8080/",
          "height": 332
        },
        "id": "F-BxQLVupq5B",
        "outputId": "b7cf030c-d811-410a-dee0-4f78f6a7076e"
      },
      "execution_count": 12,
      "outputs": [
        {
          "output_type": "execute_result",
          "data": {
            "text/plain": [
              "                  smoker\n",
              "region    smoker        \n",
              "northeast no         257\n",
              "          yes         67\n",
              "northwest no         267\n",
              "          yes         58\n",
              "southeast no         273\n",
              "          yes         91\n",
              "southwest no         267\n",
              "          yes         58"
            ],
            "text/html": [
              "\n",
              "  <div id=\"df-6a54e8b4-0b8e-4db4-8b83-7e63373fd2f4\">\n",
              "    <div class=\"colab-df-container\">\n",
              "      <div>\n",
              "<style scoped>\n",
              "    .dataframe tbody tr th:only-of-type {\n",
              "        vertical-align: middle;\n",
              "    }\n",
              "\n",
              "    .dataframe tbody tr th {\n",
              "        vertical-align: top;\n",
              "    }\n",
              "\n",
              "    .dataframe thead th {\n",
              "        text-align: right;\n",
              "    }\n",
              "</style>\n",
              "<table border=\"1\" class=\"dataframe\">\n",
              "  <thead>\n",
              "    <tr style=\"text-align: right;\">\n",
              "      <th></th>\n",
              "      <th></th>\n",
              "      <th>smoker</th>\n",
              "    </tr>\n",
              "    <tr>\n",
              "      <th>region</th>\n",
              "      <th>smoker</th>\n",
              "      <th></th>\n",
              "    </tr>\n",
              "  </thead>\n",
              "  <tbody>\n",
              "    <tr>\n",
              "      <th rowspan=\"2\" valign=\"top\">northeast</th>\n",
              "      <th>no</th>\n",
              "      <td>257</td>\n",
              "    </tr>\n",
              "    <tr>\n",
              "      <th>yes</th>\n",
              "      <td>67</td>\n",
              "    </tr>\n",
              "    <tr>\n",
              "      <th rowspan=\"2\" valign=\"top\">northwest</th>\n",
              "      <th>no</th>\n",
              "      <td>267</td>\n",
              "    </tr>\n",
              "    <tr>\n",
              "      <th>yes</th>\n",
              "      <td>58</td>\n",
              "    </tr>\n",
              "    <tr>\n",
              "      <th rowspan=\"2\" valign=\"top\">southeast</th>\n",
              "      <th>no</th>\n",
              "      <td>273</td>\n",
              "    </tr>\n",
              "    <tr>\n",
              "      <th>yes</th>\n",
              "      <td>91</td>\n",
              "    </tr>\n",
              "    <tr>\n",
              "      <th rowspan=\"2\" valign=\"top\">southwest</th>\n",
              "      <th>no</th>\n",
              "      <td>267</td>\n",
              "    </tr>\n",
              "    <tr>\n",
              "      <th>yes</th>\n",
              "      <td>58</td>\n",
              "    </tr>\n",
              "  </tbody>\n",
              "</table>\n",
              "</div>\n",
              "      <button class=\"colab-df-convert\" onclick=\"convertToInteractive('df-6a54e8b4-0b8e-4db4-8b83-7e63373fd2f4')\"\n",
              "              title=\"Convert this dataframe to an interactive table.\"\n",
              "              style=\"display:none;\">\n",
              "        \n",
              "  <svg xmlns=\"http://www.w3.org/2000/svg\" height=\"24px\"viewBox=\"0 0 24 24\"\n",
              "       width=\"24px\">\n",
              "    <path d=\"M0 0h24v24H0V0z\" fill=\"none\"/>\n",
              "    <path d=\"M18.56 5.44l.94 2.06.94-2.06 2.06-.94-2.06-.94-.94-2.06-.94 2.06-2.06.94zm-11 1L8.5 8.5l.94-2.06 2.06-.94-2.06-.94L8.5 2.5l-.94 2.06-2.06.94zm10 10l.94 2.06.94-2.06 2.06-.94-2.06-.94-.94-2.06-.94 2.06-2.06.94z\"/><path d=\"M17.41 7.96l-1.37-1.37c-.4-.4-.92-.59-1.43-.59-.52 0-1.04.2-1.43.59L10.3 9.45l-7.72 7.72c-.78.78-.78 2.05 0 2.83L4 21.41c.39.39.9.59 1.41.59.51 0 1.02-.2 1.41-.59l7.78-7.78 2.81-2.81c.8-.78.8-2.07 0-2.86zM5.41 20L4 18.59l7.72-7.72 1.47 1.35L5.41 20z\"/>\n",
              "  </svg>\n",
              "      </button>\n",
              "      \n",
              "  <style>\n",
              "    .colab-df-container {\n",
              "      display:flex;\n",
              "      flex-wrap:wrap;\n",
              "      gap: 12px;\n",
              "    }\n",
              "\n",
              "    .colab-df-convert {\n",
              "      background-color: #E8F0FE;\n",
              "      border: none;\n",
              "      border-radius: 50%;\n",
              "      cursor: pointer;\n",
              "      display: none;\n",
              "      fill: #1967D2;\n",
              "      height: 32px;\n",
              "      padding: 0 0 0 0;\n",
              "      width: 32px;\n",
              "    }\n",
              "\n",
              "    .colab-df-convert:hover {\n",
              "      background-color: #E2EBFA;\n",
              "      box-shadow: 0px 1px 2px rgba(60, 64, 67, 0.3), 0px 1px 3px 1px rgba(60, 64, 67, 0.15);\n",
              "      fill: #174EA6;\n",
              "    }\n",
              "\n",
              "    [theme=dark] .colab-df-convert {\n",
              "      background-color: #3B4455;\n",
              "      fill: #D2E3FC;\n",
              "    }\n",
              "\n",
              "    [theme=dark] .colab-df-convert:hover {\n",
              "      background-color: #434B5C;\n",
              "      box-shadow: 0px 1px 3px 1px rgba(0, 0, 0, 0.15);\n",
              "      filter: drop-shadow(0px 1px 2px rgba(0, 0, 0, 0.3));\n",
              "      fill: #FFFFFF;\n",
              "    }\n",
              "  </style>\n",
              "\n",
              "      <script>\n",
              "        const buttonEl =\n",
              "          document.querySelector('#df-6a54e8b4-0b8e-4db4-8b83-7e63373fd2f4 button.colab-df-convert');\n",
              "        buttonEl.style.display =\n",
              "          google.colab.kernel.accessAllowed ? 'block' : 'none';\n",
              "\n",
              "        async function convertToInteractive(key) {\n",
              "          const element = document.querySelector('#df-6a54e8b4-0b8e-4db4-8b83-7e63373fd2f4');\n",
              "          const dataTable =\n",
              "            await google.colab.kernel.invokeFunction('convertToInteractive',\n",
              "                                                     [key], {});\n",
              "          if (!dataTable) return;\n",
              "\n",
              "          const docLinkHtml = 'Like what you see? Visit the ' +\n",
              "            '<a target=\"_blank\" href=https://colab.research.google.com/notebooks/data_table.ipynb>data table notebook</a>'\n",
              "            + ' to learn more about interactive tables.';\n",
              "          element.innerHTML = '';\n",
              "          dataTable['output_type'] = 'display_data';\n",
              "          await google.colab.output.renderOutput(dataTable, element);\n",
              "          const docLink = document.createElement('div');\n",
              "          docLink.innerHTML = docLinkHtml;\n",
              "          element.appendChild(docLink);\n",
              "        }\n",
              "      </script>\n",
              "    </div>\n",
              "  </div>\n",
              "  "
            ]
          },
          "metadata": {},
          "execution_count": 12
        }
      ]
    },
    {
      "cell_type": "code",
      "source": [
        "smoke_region = data[data['smoker'] == 'yes'].value_counts('region')\n",
        "non_smoke_region = data[data['smoker'] == 'no'].value_counts('region')\n",
        "\n",
        "regionlar = smoke_region.index\n",
        "smoker = smoke_region.values\n",
        "non_smoker = non_smoke_region.values\n",
        "\n",
        "x_axis = np.arange(len(regionlar))\n",
        "\n",
        "# Multi bar Chart\n",
        "\n",
        "plt.bar(x_axis -0.2, smoker, width=0.4, label = 'Smoker')\n",
        "plt.bar(x_axis +0.2, non_smoker, width=0.4, label = 'Non-smoker')\n",
        "\n",
        "# Xticks\n",
        "\n",
        "plt.xticks(x_axis, regionlar)\n",
        "\n",
        "# Add legend\n",
        "\n",
        "plt.legend()\n",
        "\n",
        "# Display\n",
        "\n",
        "plt.show()\n",
        "\n"
      ],
      "metadata": {
        "colab": {
          "base_uri": "https://localhost:8080/",
          "height": 265
        },
        "id": "feb0wbwzAw2n",
        "outputId": "bead1ecb-fff3-424f-ad52-4c9f93b25ac4"
      },
      "execution_count": 13,
      "outputs": [
        {
          "output_type": "display_data",
          "data": {
            "text/plain": [
              "<Figure size 432x288 with 1 Axes>"
            ],
            "image/png": "[encoded data removed]"
          },
          "metadata": {
            "needs_background": "light"
          }
        }
      ]
    },
    {
      "cell_type": "markdown",
      "source": [
        "**“bmi” ile “sex”(Cinsiyet) arasındaki ilişkiyi inceleyiniz.**"
      ],
      "metadata": {
        "id": "N_qGxBCTF6CU"
      }
    },
    {
      "cell_type": "code",
      "source": [
        "#“bmi” ile “sex”(Cinsiyet) arasındaki ilişkiyi inceleyiniz.\n",
        "avg_bmi_female = data.loc[data['sex'] == 'female', 'bmi'].mean()\n",
        "avg_bmi_male = data.loc[data['sex'] == 'male', 'bmi'].mean()\n",
        "\n",
        "print('Average BMI in females:', avg_bmi_female)\n",
        "print('Average BMI in males:', avg_bmi_male)\n",
        "\n"
      ],
      "metadata": {
        "colab": {
          "base_uri": "https://localhost:8080/"
        },
        "id": "hWlei3b8pqGT",
        "outputId": "d6401b49-ecb8-42c1-ee49-a83852e9c8d2"
      },
      "execution_count": 14,
      "outputs": [
        {
          "output_type": "stream",
          "name": "stdout",
          "text": [
            "Average BMI in females: 30.37774924471299\n",
            "Average BMI in males: 30.943128698224854\n"
          ]
        }
      ]
    },
    {
      "cell_type": "markdown",
      "source": [
        "**En çok “children”’a sahip “region”’ı bulunuz.**"
      ],
      "metadata": {
        "id": "QQ8Je9KvyEJ2"
      }
    },
    {
      "cell_type": "code",
      "source": [
        "#Bölge isimlerini tekilleştiriyoruz üzerinde iterasyon yapabilmek için.\n",
        "regions = data['region'].unique()   \n",
        "\n",
        "#Bölgedeki toplam çocuk sayısını hesaplayıp bölge ismi key, çocuk sayısı value olacak şekilde başta yaratmış olduğumuz dictionary'e yazıyoruz\n",
        "reg_chl = {}\n",
        "for region in regions:\n",
        "  nbr_children = data.loc[data['region'] == region, 'children'].sum()\n",
        "  reg_chl[region] = nbr_children\n",
        "\n",
        "#Tüm bölgelerdeki toplam çocuk sayısını ve en fazla çocuğa sahip olan bölgeyi yazdırıyoruz\n",
        "print('Bölgelere göre çocuk sayısı:', reg_chl)\n",
        "print('En fazla çocuğa sahip olan bölge:', max(reg_chl, key=reg_chl.get))"
      ],
      "metadata": {
        "colab": {
          "base_uri": "https://localhost:8080/"
        },
        "id": "1Pi2H-5HpqDb",
        "outputId": "11b0cca5-4585-42fd-b451-bd71bad6751b"
      },
      "execution_count": 15,
      "outputs": [
        {
          "output_type": "stream",
          "name": "stdout",
          "text": [
            "Bölgelere göre çocuk sayısı: {'southwest': 371, 'southeast': 382, 'northwest': 373, 'northeast': 339}\n",
            "En fazla çocuğa sahip olan bölge: southeast\n"
          ]
        }
      ]
    },
    {
      "cell_type": "markdown",
      "source": [
        "**“Age” ile “bmi” arasındaki ilişkiyi inceleyiniz.**"
      ],
      "metadata": {
        "id": "aMAaJN0HGJFk"
      }
    },
    {
      "cell_type": "code",
      "source": [
        "plt.scatter(x=data['age'], y=data['bmi'])\n",
        "\n",
        "plt.xlabel('Age')\n",
        "plt.ylabel('BMI')\n",
        "\n",
        "plt.show()"
      ],
      "metadata": {
        "colab": {
          "base_uri": "https://localhost:8080/",
          "height": 279
        },
        "id": "h5izN4sxpqBb",
        "outputId": "ea56499b-fa42-431e-b35d-697b828329e9"
      },
      "execution_count": 16,
      "outputs": [
        {
          "output_type": "display_data",
          "data": {
            "text/plain": [
              "<Figure size 432x288 with 1 Axes>"
            ],
            "image/png": "[encoded data removed]"
          },
          "metadata": {
            "needs_background": "light"
          }
        }
      ]
    },
    {
      "cell_type": "markdown",
      "source": [
        "**“bmi” ile “children” arasındaki ilişkiyi inceleyiniz.**"
      ],
      "metadata": {
        "id": "n4Yg-Qn9GRQ_"
      }
    },
    {
      "cell_type": "code",
      "source": [
        "data.groupby('children')[['bmi']].mean()"
      ],
      "metadata": {
        "colab": {
          "base_uri": "https://localhost:8080/",
          "height": 269
        },
        "id": "8-pRqAPDpp-r",
        "outputId": "2c7292ae-3f0a-4fdc-e451-32fddc024feb"
      },
      "execution_count": 17,
      "outputs": [
        {
          "output_type": "execute_result",
          "data": {
            "text/plain": [
              "                bmi\n",
              "children           \n",
              "0         30.550296\n",
              "1         30.623148\n",
              "2         30.978104\n",
              "3         30.684331\n",
              "4         31.391200\n",
              "5         29.605000"
            ],
            "text/html": [
              "\n",
              "  <div id=\"df-8440db0a-8d02-4d19-bccc-ea7733887685\">\n",
              "    <div class=\"colab-df-container\">\n",
              "      <div>\n",
              "<style scoped>\n",
              "    .dataframe tbody tr th:only-of-type {\n",
              "        vertical-align: middle;\n",
              "    }\n",
              "\n",
              "    .dataframe tbody tr th {\n",
              "        vertical-align: top;\n",
              "    }\n",
              "\n",
              "    .dataframe thead th {\n",
              "        text-align: right;\n",
              "    }\n",
              "</style>\n",
              "<table border=\"1\" class=\"dataframe\">\n",
              "  <thead>\n",
              "    <tr style=\"text-align: right;\">\n",
              "      <th></th>\n",
              "      <th>bmi</th>\n",
              "    </tr>\n",
              "    <tr>\n",
              "      <th>children</th>\n",
              "      <th></th>\n",
              "    </tr>\n",
              "  </thead>\n",
              "  <tbody>\n",
              "    <tr>\n",
              "      <th>0</th>\n",
              "      <td>30.550296</td>\n",
              "    </tr>\n",
              "    <tr>\n",
              "      <th>1</th>\n",
              "      <td>30.623148</td>\n",
              "    </tr>\n",
              "    <tr>\n",
              "      <th>2</th>\n",
              "      <td>30.978104</td>\n",
              "    </tr>\n",
              "    <tr>\n",
              "      <th>3</th>\n",
              "      <td>30.684331</td>\n",
              "    </tr>\n",
              "    <tr>\n",
              "      <th>4</th>\n",
              "      <td>31.391200</td>\n",
              "    </tr>\n",
              "    <tr>\n",
              "      <th>5</th>\n",
              "      <td>29.605000</td>\n",
              "    </tr>\n",
              "  </tbody>\n",
              "</table>\n",
              "</div>\n",
              "      <button class=\"colab-df-convert\" onclick=\"convertToInteractive('df-8440db0a-8d02-4d19-bccc-ea7733887685')\"\n",
              "              title=\"Convert this dataframe to an interactive table.\"\n",
              "              style=\"display:none;\">\n",
              "        \n",
              "  <svg xmlns=\"http://www.w3.org/2000/svg\" height=\"24px\"viewBox=\"0 0 24 24\"\n",
              "       width=\"24px\">\n",
              "    <path d=\"M0 0h24v24H0V0z\" fill=\"none\"/>\n",
              "    <path d=\"M18.56 5.44l.94 2.06.94-2.06 2.06-.94-2.06-.94-.94-2.06-.94 2.06-2.06.94zm-11 1L8.5 8.5l.94-2.06 2.06-.94-2.06-.94L8.5 2.5l-.94 2.06-2.06.94zm10 10l.94 2.06.94-2.06 2.06-.94-2.06-.94-.94-2.06-.94 2.06-2.06.94z\"/><path d=\"M17.41 7.96l-1.37-1.37c-.4-.4-.92-.59-1.43-.59-.52 0-1.04.2-1.43.59L10.3 9.45l-7.72 7.72c-.78.78-.78 2.05 0 2.83L4 21.41c.39.39.9.59 1.41.59.51 0 1.02-.2 1.41-.59l7.78-7.78 2.81-2.81c.8-.78.8-2.07 0-2.86zM5.41 20L4 18.59l7.72-7.72 1.47 1.35L5.41 20z\"/>\n",
              "  </svg>\n",
              "      </button>\n",
              "      \n",
              "  <style>\n",
              "    .colab-df-container {\n",
              "      display:flex;\n",
              "      flex-wrap:wrap;\n",
              "      gap: 12px;\n",
              "    }\n",
              "\n",
              "    .colab-df-convert {\n",
              "      background-color: #E8F0FE;\n",
              "      border: none;\n",
              "      border-radius: 50%;\n",
              "      cursor: pointer;\n",
              "      display: none;\n",
              "      fill: #1967D2;\n",
              "      height: 32px;\n",
              "      padding: 0 0 0 0;\n",
              "      width: 32px;\n",
              "    }\n",
              "\n",
              "    .colab-df-convert:hover {\n",
              "      background-color: #E2EBFA;\n",
              "      box-shadow: 0px 1px 2px rgba(60, 64, 67, 0.3), 0px 1px 3px 1px rgba(60, 64, 67, 0.15);\n",
              "      fill: #174EA6;\n",
              "    }\n",
              "\n",
              "    [theme=dark] .colab-df-convert {\n",
              "      background-color: #3B4455;\n",
              "      fill: #D2E3FC;\n",
              "    }\n",
              "\n",
              "    [theme=dark] .colab-df-convert:hover {\n",
              "      background-color: #434B5C;\n",
              "      box-shadow: 0px 1px 3px 1px rgba(0, 0, 0, 0.15);\n",
              "      filter: drop-shadow(0px 1px 2px rgba(0, 0, 0, 0.3));\n",
              "      fill: #FFFFFF;\n",
              "    }\n",
              "  </style>\n",
              "\n",
              "      <script>\n",
              "        const buttonEl =\n",
              "          document.querySelector('#df-8440db0a-8d02-4d19-bccc-ea7733887685 button.colab-df-convert');\n",
              "        buttonEl.style.display =\n",
              "          google.colab.kernel.accessAllowed ? 'block' : 'none';\n",
              "\n",
              "        async function convertToInteractive(key) {\n",
              "          const element = document.querySelector('#df-8440db0a-8d02-4d19-bccc-ea7733887685');\n",
              "          const dataTable =\n",
              "            await google.colab.kernel.invokeFunction('convertToInteractive',\n",
              "                                                     [key], {});\n",
              "          if (!dataTable) return;\n",
              "\n",
              "          const docLinkHtml = 'Like what you see? Visit the ' +\n",
              "            '<a target=\"_blank\" href=https://colab.research.google.com/notebooks/data_table.ipynb>data table notebook</a>'\n",
              "            + ' to learn more about interactive tables.';\n",
              "          element.innerHTML = '';\n",
              "          dataTable['output_type'] = 'display_data';\n",
              "          await google.colab.output.renderOutput(dataTable, element);\n",
              "          const docLink = document.createElement('div');\n",
              "          docLink.innerHTML = docLinkHtml;\n",
              "          element.appendChild(docLink);\n",
              "        }\n",
              "      </script>\n",
              "    </div>\n",
              "  </div>\n",
              "  "
            ]
          },
          "metadata": {},
          "execution_count": 17
        }
      ]
    },
    {
      "cell_type": "markdown",
      "source": [
        "**“bmi” değişkeninde outlier var mıdır? İnceleyiniz.**"
      ],
      "metadata": {
        "id": "R465MMChGUqZ"
      }
    },
    {
      "cell_type": "code",
      "source": [
        "sns.boxplot(data['bmi']) \n",
        "\n",
        "#45'in üstündekiler outlier"
      ],
      "metadata": {
        "colab": {
          "base_uri": "https://localhost:8080/",
          "height": 351
        },
        "id": "1nR6SSOysGEl",
        "outputId": "655eda00-5310-49ed-f50a-981c52824530"
      },
      "execution_count": 18,
      "outputs": [
        {
          "output_type": "stream",
          "name": "stderr",
          "text": [
            "/usr/local/lib/python3.7/dist-packages/seaborn/_decorators.py:43: FutureWarning: Pass the following variable as a keyword arg: x. From version 0.12, the only valid positional argument will be `data`, and passing other arguments without an explicit keyword will result in an error or misinterpretation.\n",
            "  FutureWarning\n"
          ]
        },
        {
          "output_type": "execute_result",
          "data": {
            "text/plain": [
              "<matplotlib.axes._subplots.AxesSubplot at 0x7f3d6705bb90>"
            ]
          },
          "metadata": {},
          "execution_count": 18
        },
        {
          "output_type": "display_data",
          "data": {
            "text/plain": [
              "<Figure size 432x288 with 1 Axes>"
            ],
            "image/png": "[encoded data removed]"
          },
          "metadata": {
            "needs_background": "light"
          }
        }
      ]
    },
    {
      "cell_type": "markdown",
      "source": [
        "**“bmi” ile “charges” arasındaki ilişkiyi inceleyiniz.**"
      ],
      "metadata": {
        "id": "FGDbRl69GaG3"
      }
    },
    {
      "cell_type": "code",
      "source": [
        "plt.scatter(x=data['bmi'], y=data['charges'])\n",
        "\n",
        "plt.xlabel('BMI')\n",
        "plt.ylabel('Charges')\n",
        "\n",
        "plt.show()"
      ],
      "metadata": {
        "colab": {
          "base_uri": "https://localhost:8080/",
          "height": 279
        },
        "id": "rnc1sZu6sGCD",
        "outputId": "731d7b7e-b0c7-4174-a7b3-4d3d6ffa1ead"
      },
      "execution_count": 19,
      "outputs": [
        {
          "output_type": "display_data",
          "data": {
            "text/plain": [
              "<Figure size 432x288 with 1 Axes>"
            ],
            "image/png": "[encoded data removed]"
          },
          "metadata": {
            "needs_background": "light"
          }
        }
      ]
    },
    {
      "cell_type": "markdown",
      "source": [
        "**“region”, “smoker” ve “bmi” arasındaki ilişkiyi bar plot kullanarak inceleyiniz.**"
      ],
      "metadata": {
        "id": "RKhC7NkOGeMl"
      }
    },
    {
      "cell_type": "markdown",
      "source": [
        "![Screenshot 2022-08-22 at 21.05.24.png](data:image/png;base64,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)"
      ],
      "metadata": {
        "id": "9ksu1mMK8VMi"
      }
    },
    {
      "cell_type": "code",
      "source": [
        "smoke_region = data[data['smoker'] == 'yes'].value_counts('region')\n",
        "non_smoke_region = data[data['smoker'] == 'no'].value_counts('region')\n",
        "\n",
        "regionlar = smoke_region.index\n",
        "smoker = smoke_region.values\n",
        "non_smoker = non_smoke_region.values\n",
        "\n",
        "x_axis = np.arange(len(regionlar))\n",
        "\n",
        "# Multi bar Chart\n",
        "\n",
        "plt.bar(x_axis -0.2, smoker, width=0.4, label = 'Smoker')\n",
        "plt.bar(x_axis +0.2, non_smoker, width=0.4, label = 'Non-smoker')\n",
        "\n",
        "# Xticks\n",
        "\n",
        "plt.xticks(x_axis, regionlar)\n",
        "\n",
        "# Add legend\n",
        "\n",
        "plt.legend()\n",
        "\n",
        "# Display\n",
        "\n",
        "plt.show()"
      ],
      "metadata": {
        "colab": {
          "base_uri": "https://localhost:8080/",
          "height": 265
        },
        "id": "9JFQYnRwsGAM",
        "outputId": "14a8af92-a5ef-444e-a002-fd1d45887a62"
      },
      "execution_count": null,
      "outputs": [
        {
          "output_type": "display_data",
          "data": {
            "text/plain": [
              "<Figure size 432x288 with 1 Axes>"
            ],
            "image/png": "[encoded data removed]"
          },
          "metadata": {
            "needs_background": "light"
          }
        }
      ]
    },
    {
      "cell_type": "code",
      "source": [
        "smoker_bmi = data.loc[data['smoker'] == 'yes', 'bmi'].mean()\n",
        "\n",
        "smoker_data = data[data['smoker'] == 'yes']\n",
        "smoker_data\n",
        "\n"
      ],
      "metadata": {
        "colab": {
          "base_uri": "https://localhost:8080/",
          "height": 424
        },
        "id": "rm9wLbUZ3grl",
        "outputId": "42744e6a-148c-41c9-ce22-fc8eed8717f9"
      },
      "execution_count": null,
      "outputs": [
        {
          "output_type": "execute_result",
          "data": {
            "text/plain": [
              "      age     sex     bmi  children smoker     region      charges\n",
              "0      19  female  27.900         0    yes  southwest  16884.92400\n",
              "11     62  female  26.290         0    yes  southeast  27808.72510\n",
              "14     27    male  42.130         0    yes  southeast  39611.75770\n",
              "19     30    male  35.300         0    yes  southwest  36837.46700\n",
              "23     34  female  31.920         1    yes  northeast  37701.87680\n",
              "...   ...     ...     ...       ...    ...        ...          ...\n",
              "1313   19  female  34.700         2    yes  southwest  36397.57600\n",
              "1314   30  female  23.655         3    yes  northwest  18765.87545\n",
              "1321   62    male  26.695         0    yes  northeast  28101.33305\n",
              "1323   42  female  40.370         2    yes  southeast  43896.37630\n",
              "1337   61  female  29.070         0    yes  northwest  29141.36030\n",
              "\n",
              "[274 rows x 7 columns]"
            ],
            "text/html": [
              "\n",
              "  <div id=\"df-1a02b322-8346-4a8a-9e92-b22a8bc1a9e4\">\n",
              "    <div class=\"colab-df-container\">\n",
              "      <div>\n",
              "<style scoped>\n",
              "    .dataframe tbody tr th:only-of-type {\n",
              "        vertical-align: middle;\n",
              "    }\n",
              "\n",
              "    .dataframe tbody tr th {\n",
              "        vertical-align: top;\n",
              "    }\n",
              "\n",
              "    .dataframe thead th {\n",
              "        text-align: right;\n",
              "    }\n",
              "</style>\n",
              "<table border=\"1\" class=\"dataframe\">\n",
              "  <thead>\n",
              "    <tr style=\"text-align: right;\">\n",
              "      <th></th>\n",
              "      <th>age</th>\n",
              "      <th>sex</th>\n",
              "      <th>bmi</th>\n",
              "      <th>children</th>\n",
              "      <th>smoker</th>\n",
              "      <th>region</th>\n",
              "      <th>charges</th>\n",
              "    </tr>\n",
              "  </thead>\n",
              "  <tbody>\n",
              "    <tr>\n",
              "      <th>0</th>\n",
              "      <td>19</td>\n",
              "      <td>female</td>\n",
              "      <td>27.900</td>\n",
              "      <td>0</td>\n",
              "      <td>yes</td>\n",
              "      <td>southwest</td>\n",
              "      <td>16884.92400</td>\n",
              "    </tr>\n",
              "    <tr>\n",
              "      <th>11</th>\n",
              "      <td>62</td>\n",
              "      <td>female</td>\n",
              "      <td>26.290</td>\n",
              "      <td>0</td>\n",
              "      <td>yes</td>\n",
              "      <td>southeast</td>\n",
              "      <td>27808.72510</td>\n",
              "    </tr>\n",
              "    <tr>\n",
              "      <th>14</th>\n",
              "      <td>27</td>\n",
              "      <td>male</td>\n",
              "      <td>42.130</td>\n",
              "      <td>0</td>\n",
              "      <td>yes</td>\n",
              "      <td>southeast</td>\n",
              "      <td>39611.75770</td>\n",
              "    </tr>\n",
              "    <tr>\n",
              "      <th>19</th>\n",
              "      <td>30</td>\n",
              "      <td>male</td>\n",
              "      <td>35.300</td>\n",
              "      <td>0</td>\n",
              "      <td>yes</td>\n",
              "      <td>southwest</td>\n",
              "      <td>36837.46700</td>\n",
              "    </tr>\n",
              "    <tr>\n",
              "      <th>23</th>\n",
              "      <td>34</td>\n",
              "      <td>female</td>\n",
              "      <td>31.920</td>\n",
              "      <td>1</td>\n",
              "      <td>yes</td>\n",
              "      <td>northeast</td>\n",
              "      <td>37701.87680</td>\n",
              "    </tr>\n",
              "    <tr>\n",
              "      <th>...</th>\n",
              "      <td>...</td>\n",
              "      <td>...</td>\n",
              "      <td>...</td>\n",
              "      <td>...</td>\n",
              "      <td>...</td>\n",
              "      <td>...</td>\n",
              "      <td>...</td>\n",
              "    </tr>\n",
              "    <tr>\n",
              "      <th>1313</th>\n",
              "      <td>19</td>\n",
              "      <td>female</td>\n",
              "      <td>34.700</td>\n",
              "      <td>2</td>\n",
              "      <td>yes</td>\n",
              "      <td>southwest</td>\n",
              "      <td>36397.57600</td>\n",
              "    </tr>\n",
              "    <tr>\n",
              "      <th>1314</th>\n",
              "      <td>30</td>\n",
              "      <td>female</td>\n",
              "      <td>23.655</td>\n",
              "      <td>3</td>\n",
              "      <td>yes</td>\n",
              "      <td>northwest</td>\n",
              "      <td>18765.87545</td>\n",
              "    </tr>\n",
              "    <tr>\n",
              "      <th>1321</th>\n",
              "      <td>62</td>\n",
              "      <td>male</td>\n",
              "      <td>26.695</td>\n",
              "      <td>0</td>\n",
              "      <td>yes</td>\n",
              "      <td>northeast</td>\n",
              "      <td>28101.33305</td>\n",
              "    </tr>\n",
              "    <tr>\n",
              "      <th>1323</th>\n",
              "      <td>42</td>\n",
              "      <td>female</td>\n",
              "      <td>40.370</td>\n",
              "      <td>2</td>\n",
              "      <td>yes</td>\n",
              "      <td>southeast</td>\n",
              "      <td>43896.37630</td>\n",
              "    </tr>\n",
              "    <tr>\n",
              "      <th>1337</th>\n",
              "      <td>61</td>\n",
              "      <td>female</td>\n",
              "      <td>29.070</td>\n",
              "      <td>0</td>\n",
              "      <td>yes</td>\n",
              "      <td>northwest</td>\n",
              "      <td>29141.36030</td>\n",
              "    </tr>\n",
              "  </tbody>\n",
              "</table>\n",
              "<p>274 rows × 7 columns</p>\n",
              "</div>\n",
              "      <button class=\"colab-df-convert\" onclick=\"convertToInteractive('df-1a02b322-8346-4a8a-9e92-b22a8bc1a9e4')\"\n",
              "              title=\"Convert this dataframe to an interactive table.\"\n",
              "              style=\"display:none;\">\n",
              "        \n",
              "  <svg xmlns=\"http://www.w3.org/2000/svg\" height=\"24px\"viewBox=\"0 0 24 24\"\n",
              "       width=\"24px\">\n",
              "    <path d=\"M0 0h24v24H0V0z\" fill=\"none\"/>\n",
              "    <path d=\"M18.56 5.44l.94 2.06.94-2.06 2.06-.94-2.06-.94-.94-2.06-.94 2.06-2.06.94zm-11 1L8.5 8.5l.94-2.06 2.06-.94-2.06-.94L8.5 2.5l-.94 2.06-2.06.94zm10 10l.94 2.06.94-2.06 2.06-.94-2.06-.94-.94-2.06-.94 2.06-2.06.94z\"/><path d=\"M17.41 7.96l-1.37-1.37c-.4-.4-.92-.59-1.43-.59-.52 0-1.04.2-1.43.59L10.3 9.45l-7.72 7.72c-.78.78-.78 2.05 0 2.83L4 21.41c.39.39.9.59 1.41.59.51 0 1.02-.2 1.41-.59l7.78-7.78 2.81-2.81c.8-.78.8-2.07 0-2.86zM5.41 20L4 18.59l7.72-7.72 1.47 1.35L5.41 20z\"/>\n",
              "  </svg>\n",
              "      </button>\n",
              "      \n",
              "  <style>\n",
              "    .colab-df-container {\n",
              "      display:flex;\n",
              "      flex-wrap:wrap;\n",
              "      gap: 12px;\n",
              "    }\n",
              "\n",
              "    .colab-df-convert {\n",
              "      background-color: #E8F0FE;\n",
              "      border: none;\n",
              "      border-radius: 50%;\n",
              "      cursor: pointer;\n",
              "      display: none;\n",
              "      fill: #1967D2;\n",
              "      height: 32px;\n",
              "      padding: 0 0 0 0;\n",
              "      width: 32px;\n",
              "    }\n",
              "\n",
              "    .colab-df-convert:hover {\n",
              "      background-color: #E2EBFA;\n",
              "      box-shadow: 0px 1px 2px rgba(60, 64, 67, 0.3), 0px 1px 3px 1px rgba(60, 64, 67, 0.15);\n",
              "      fill: #174EA6;\n",
              "    }\n",
              "\n",
              "    [theme=dark] .colab-df-convert {\n",
              "      background-color: #3B4455;\n",
              "      fill: #D2E3FC;\n",
              "    }\n",
              "\n",
              "    [theme=dark] .colab-df-convert:hover {\n",
              "      background-color: #434B5C;\n",
              "      box-shadow: 0px 1px 3px 1px rgba(0, 0, 0, 0.15);\n",
              "      filter: drop-shadow(0px 1px 2px rgba(0, 0, 0, 0.3));\n",
              "      fill: #FFFFFF;\n",
              "    }\n",
              "  </style>\n",
              "\n",
              "      <script>\n",
              "        const buttonEl =\n",
              "          document.querySelector('#df-1a02b322-8346-4a8a-9e92-b22a8bc1a9e4 button.colab-df-convert');\n",
              "        buttonEl.style.display =\n",
              "          google.colab.kernel.accessAllowed ? 'block' : 'none';\n",
              "\n",
              "        async function convertToInteractive(key) {\n",
              "          const element = document.querySelector('#df-1a02b322-8346-4a8a-9e92-b22a8bc1a9e4');\n",
              "          const dataTable =\n",
              "            await google.colab.kernel.invokeFunction('convertToInteractive',\n",
              "                                                     [key], {});\n",
              "          if (!dataTable) return;\n",
              "\n",
              "          const docLinkHtml = 'Like what you see? Visit the ' +\n",
              "            '<a target=\"_blank\" href=https://colab.research.google.com/notebooks/data_table.ipynb>data table notebook</a>'\n",
              "            + ' to learn more about interactive tables.';\n",
              "          element.innerHTML = '';\n",
              "          dataTable['output_type'] = 'display_data';\n",
              "          await google.colab.output.renderOutput(dataTable, element);\n",
              "          const docLink = document.createElement('div');\n",
              "          docLink.innerHTML = docLinkHtml;\n",
              "          element.appendChild(docLink);\n",
              "        }\n",
              "      </script>\n",
              "    </div>\n",
              "  </div>\n",
              "  "
            ]
          },
          "metadata": {},
          "execution_count": 21
        }
      ]
    },
    {
      "cell_type": "markdown",
      "source": [
        "**Veri Ön İşleme**"
      ],
      "metadata": {
        "id": "KImjxF4juNkK"
      }
    },
    {
      "cell_type": "code",
      "source": [
        "data.head()"
      ],
      "metadata": {
        "colab": {
          "base_uri": "https://localhost:8080/",
          "height": 206
        },
        "id": "b7fFjIKn0mJN",
        "outputId": "170f8d7a-9a3e-4db8-af01-81e44d2f4c00"
      },
      "execution_count": 20,
      "outputs": [
        {
          "output_type": "execute_result",
          "data": {
            "text/plain": [
              "   age     sex     bmi  children smoker     region      charges\n",
              "0   19  female  27.900         0    yes  southwest  16884.92400\n",
              "1   18    male  33.770         1     no  southeast   1725.55230\n",
              "2   28    male  33.000         3     no  southeast   4449.46200\n",
              "3   33    male  22.705         0     no  northwest  21984.47061\n",
              "4   32    male  28.880         0     no  northwest   3866.85520"
            ],
            "text/html": [
              "\n",
              "  <div id=\"df-d88742d6-0843-4842-9515-debb1c797236\">\n",
              "    <div class=\"colab-df-container\">\n",
              "      <div>\n",
              "<style scoped>\n",
              "    .dataframe tbody tr th:only-of-type {\n",
              "        vertical-align: middle;\n",
              "    }\n",
              "\n",
              "    .dataframe tbody tr th {\n",
              "        vertical-align: top;\n",
              "    }\n",
              "\n",
              "    .dataframe thead th {\n",
              "        text-align: right;\n",
              "    }\n",
              "</style>\n",
              "<table border=\"1\" class=\"dataframe\">\n",
              "  <thead>\n",
              "    <tr style=\"text-align: right;\">\n",
              "      <th></th>\n",
              "      <th>age</th>\n",
              "      <th>sex</th>\n",
              "      <th>bmi</th>\n",
              "      <th>children</th>\n",
              "      <th>smoker</th>\n",
              "      <th>region</th>\n",
              "      <th>charges</th>\n",
              "    </tr>\n",
              "  </thead>\n",
              "  <tbody>\n",
              "    <tr>\n",
              "      <th>0</th>\n",
              "      <td>19</td>\n",
              "      <td>female</td>\n",
              "      <td>27.900</td>\n",
              "      <td>0</td>\n",
              "      <td>yes</td>\n",
              "      <td>southwest</td>\n",
              "      <td>16884.92400</td>\n",
              "    </tr>\n",
              "    <tr>\n",
              "      <th>1</th>\n",
              "      <td>18</td>\n",
              "      <td>male</td>\n",
              "      <td>33.770</td>\n",
              "      <td>1</td>\n",
              "      <td>no</td>\n",
              "      <td>southeast</td>\n",
              "      <td>1725.55230</td>\n",
              "    </tr>\n",
              "    <tr>\n",
              "      <th>2</th>\n",
              "      <td>28</td>\n",
              "      <td>male</td>\n",
              "      <td>33.000</td>\n",
              "      <td>3</td>\n",
              "      <td>no</td>\n",
              "      <td>southeast</td>\n",
              "      <td>4449.46200</td>\n",
              "    </tr>\n",
              "    <tr>\n",
              "      <th>3</th>\n",
              "      <td>33</td>\n",
              "      <td>male</td>\n",
              "      <td>22.705</td>\n",
              "      <td>0</td>\n",
              "      <td>no</td>\n",
              "      <td>northwest</td>\n",
              "      <td>21984.47061</td>\n",
              "    </tr>\n",
              "    <tr>\n",
              "      <th>4</th>\n",
              "      <td>32</td>\n",
              "      <td>male</td>\n",
              "      <td>28.880</td>\n",
              "      <td>0</td>\n",
              "      <td>no</td>\n",
              "      <td>northwest</td>\n",
              "      <td>3866.85520</td>\n",
              "    </tr>\n",
              "  </tbody>\n",
              "</table>\n",
              "</div>\n",
              "      <button class=\"colab-df-convert\" onclick=\"convertToInteractive('df-d88742d6-0843-4842-9515-debb1c797236')\"\n",
              "              title=\"Convert this dataframe to an interactive table.\"\n",
              "              style=\"display:none;\">\n",
              "        \n",
              "  <svg xmlns=\"http://www.w3.org/2000/svg\" height=\"24px\"viewBox=\"0 0 24 24\"\n",
              "       width=\"24px\">\n",
              "    <path d=\"M0 0h24v24H0V0z\" fill=\"none\"/>\n",
              "    <path d=\"M18.56 5.44l.94 2.06.94-2.06 2.06-.94-2.06-.94-.94-2.06-.94 2.06-2.06.94zm-11 1L8.5 8.5l.94-2.06 2.06-.94-2.06-.94L8.5 2.5l-.94 2.06-2.06.94zm10 10l.94 2.06.94-2.06 2.06-.94-2.06-.94-.94-2.06-.94 2.06-2.06.94z\"/><path d=\"M17.41 7.96l-1.37-1.37c-.4-.4-.92-.59-1.43-.59-.52 0-1.04.2-1.43.59L10.3 9.45l-7.72 7.72c-.78.78-.78 2.05 0 2.83L4 21.41c.39.39.9.59 1.41.59.51 0 1.02-.2 1.41-.59l7.78-7.78 2.81-2.81c.8-.78.8-2.07 0-2.86zM5.41 20L4 18.59l7.72-7.72 1.47 1.35L5.41 20z\"/>\n",
              "  </svg>\n",
              "      </button>\n",
              "      \n",
              "  <style>\n",
              "    .colab-df-container {\n",
              "      display:flex;\n",
              "      flex-wrap:wrap;\n",
              "      gap: 12px;\n",
              "    }\n",
              "\n",
              "    .colab-df-convert {\n",
              "      background-color: #E8F0FE;\n",
              "      border: none;\n",
              "      border-radius: 50%;\n",
              "      cursor: pointer;\n",
              "      display: none;\n",
              "      fill: #1967D2;\n",
              "      height: 32px;\n",
              "      padding: 0 0 0 0;\n",
              "      width: 32px;\n",
              "    }\n",
              "\n",
              "    .colab-df-convert:hover {\n",
              "      background-color: #E2EBFA;\n",
              "      box-shadow: 0px 1px 2px rgba(60, 64, 67, 0.3), 0px 1px 3px 1px rgba(60, 64, 67, 0.15);\n",
              "      fill: #174EA6;\n",
              "    }\n",
              "\n",
              "    [theme=dark] .colab-df-convert {\n",
              "      background-color: #3B4455;\n",
              "      fill: #D2E3FC;\n",
              "    }\n",
              "\n",
              "    [theme=dark] .colab-df-convert:hover {\n",
              "      background-color: #434B5C;\n",
              "      box-shadow: 0px 1px 3px 1px rgba(0, 0, 0, 0.15);\n",
              "      filter: drop-shadow(0px 1px 2px rgba(0, 0, 0, 0.3));\n",
              "      fill: #FFFFFF;\n",
              "    }\n",
              "  </style>\n",
              "\n",
              "      <script>\n",
              "        const buttonEl =\n",
              "          document.querySelector('#df-d88742d6-0843-4842-9515-debb1c797236 button.colab-df-convert');\n",
              "        buttonEl.style.display =\n",
              "          google.colab.kernel.accessAllowed ? 'block' : 'none';\n",
              "\n",
              "        async function convertToInteractive(key) {\n",
              "          const element = document.querySelector('#df-d88742d6-0843-4842-9515-debb1c797236');\n",
              "          const dataTable =\n",
              "            await google.colab.kernel.invokeFunction('convertToInteractive',\n",
              "                                                     [key], {});\n",
              "          if (!dataTable) return;\n",
              "\n",
              "          const docLinkHtml = 'Like what you see? Visit the ' +\n",
              "            '<a target=\"_blank\" href=https://colab.research.google.com/notebooks/data_table.ipynb>data table notebook</a>'\n",
              "            + ' to learn more about interactive tables.';\n",
              "          element.innerHTML = '';\n",
              "          dataTable['output_type'] = 'display_data';\n",
              "          await google.colab.output.renderOutput(dataTable, element);\n",
              "          const docLink = document.createElement('div');\n",
              "          docLink.innerHTML = docLinkHtml;\n",
              "          element.appendChild(docLink);\n",
              "        }\n",
              "      </script>\n",
              "    </div>\n",
              "  </div>\n",
              "  "
            ]
          },
          "metadata": {},
          "execution_count": 20
        }
      ]
    },
    {
      "cell_type": "code",
      "source": [
        "#'sex', 'smoker' ve 'region' kategorik değişkenlerimiz\n",
        "from sklearn import preprocessing\n",
        "label_encoder = preprocessing.LabelEncoder()"
      ],
      "metadata": {
        "id": "x5CoHefcsF81"
      },
      "execution_count": 21,
      "outputs": []
    },
    {
      "cell_type": "code",
      "source": [
        "data['sex'] = label_encoder.fit_transform(data['sex'])\n",
        "data['smoker'] = label_encoder.fit_transform(data['smoker'])\n",
        "data.head()"
      ],
      "metadata": {
        "colab": {
          "base_uri": "https://localhost:8080/",
          "height": 206
        },
        "id": "ujBRwCUL21g_",
        "outputId": "04a37393-59db-4f71-86d5-4d30a085cf66"
      },
      "execution_count": 22,
      "outputs": [
        {
          "output_type": "execute_result",
          "data": {
            "text/plain": [
              "   age  sex     bmi  children  smoker     region      charges\n",
              "0   19    0  27.900         0       1  southwest  16884.92400\n",
              "1   18    1  33.770         1       0  southeast   1725.55230\n",
              "2   28    1  33.000         3       0  southeast   4449.46200\n",
              "3   33    1  22.705         0       0  northwest  21984.47061\n",
              "4   32    1  28.880         0       0  northwest   3866.85520"
            ],
            "text/html": [
              "\n",
              "  <div id=\"df-663f3856-ba03-441d-b79b-80879540a02a\">\n",
              "    <div class=\"colab-df-container\">\n",
              "      <div>\n",
              "<style scoped>\n",
              "    .dataframe tbody tr th:only-of-type {\n",
              "        vertical-align: middle;\n",
              "    }\n",
              "\n",
              "    .dataframe tbody tr th {\n",
              "        vertical-align: top;\n",
              "    }\n",
              "\n",
              "    .dataframe thead th {\n",
              "        text-align: right;\n",
              "    }\n",
              "</style>\n",
              "<table border=\"1\" class=\"dataframe\">\n",
              "  <thead>\n",
              "    <tr style=\"text-align: right;\">\n",
              "      <th></th>\n",
              "      <th>age</th>\n",
              "      <th>sex</th>\n",
              "      <th>bmi</th>\n",
              "      <th>children</th>\n",
              "      <th>smoker</th>\n",
              "      <th>region</th>\n",
              "      <th>charges</th>\n",
              "    </tr>\n",
              "  </thead>\n",
              "  <tbody>\n",
              "    <tr>\n",
              "      <th>0</th>\n",
              "      <td>19</td>\n",
              "      <td>0</td>\n",
              "      <td>27.900</td>\n",
              "      <td>0</td>\n",
              "      <td>1</td>\n",
              "      <td>southwest</td>\n",
              "      <td>16884.92400</td>\n",
              "    </tr>\n",
              "    <tr>\n",
              "      <th>1</th>\n",
              "      <td>18</td>\n",
              "      <td>1</td>\n",
              "      <td>33.770</td>\n",
              "      <td>1</td>\n",
              "      <td>0</td>\n",
              "      <td>southeast</td>\n",
              "      <td>1725.55230</td>\n",
              "    </tr>\n",
              "    <tr>\n",
              "      <th>2</th>\n",
              "      <td>28</td>\n",
              "      <td>1</td>\n",
              "      <td>33.000</td>\n",
              "      <td>3</td>\n",
              "      <td>0</td>\n",
              "      <td>southeast</td>\n",
              "      <td>4449.46200</td>\n",
              "    </tr>\n",
              "    <tr>\n",
              "      <th>3</th>\n",
              "      <td>33</td>\n",
              "      <td>1</td>\n",
              "      <td>22.705</td>\n",
              "      <td>0</td>\n",
              "      <td>0</td>\n",
              "      <td>northwest</td>\n",
              "      <td>21984.47061</td>\n",
              "    </tr>\n",
              "    <tr>\n",
              "      <th>4</th>\n",
              "      <td>32</td>\n",
              "      <td>1</td>\n",
              "      <td>28.880</td>\n",
              "      <td>0</td>\n",
              "      <td>0</td>\n",
              "      <td>northwest</td>\n",
              "      <td>3866.85520</td>\n",
              "    </tr>\n",
              "  </tbody>\n",
              "</table>\n",
              "</div>\n",
              "      <button class=\"colab-df-convert\" onclick=\"convertToInteractive('df-663f3856-ba03-441d-b79b-80879540a02a')\"\n",
              "              title=\"Convert this dataframe to an interactive table.\"\n",
              "              style=\"display:none;\">\n",
              "        \n",
              "  <svg xmlns=\"http://www.w3.org/2000/svg\" height=\"24px\"viewBox=\"0 0 24 24\"\n",
              "       width=\"24px\">\n",
              "    <path d=\"M0 0h24v24H0V0z\" fill=\"none\"/>\n",
              "    <path d=\"M18.56 5.44l.94 2.06.94-2.06 2.06-.94-2.06-.94-.94-2.06-.94 2.06-2.06.94zm-11 1L8.5 8.5l.94-2.06 2.06-.94-2.06-.94L8.5 2.5l-.94 2.06-2.06.94zm10 10l.94 2.06.94-2.06 2.06-.94-2.06-.94-.94-2.06-.94 2.06-2.06.94z\"/><path d=\"M17.41 7.96l-1.37-1.37c-.4-.4-.92-.59-1.43-.59-.52 0-1.04.2-1.43.59L10.3 9.45l-7.72 7.72c-.78.78-.78 2.05 0 2.83L4 21.41c.39.39.9.59 1.41.59.51 0 1.02-.2 1.41-.59l7.78-7.78 2.81-2.81c.8-.78.8-2.07 0-2.86zM5.41 20L4 18.59l7.72-7.72 1.47 1.35L5.41 20z\"/>\n",
              "  </svg>\n",
              "      </button>\n",
              "      \n",
              "  <style>\n",
              "    .colab-df-container {\n",
              "      display:flex;\n",
              "      flex-wrap:wrap;\n",
              "      gap: 12px;\n",
              "    }\n",
              "\n",
              "    .colab-df-convert {\n",
              "      background-color: #E8F0FE;\n",
              "      border: none;\n",
              "      border-radius: 50%;\n",
              "      cursor: pointer;\n",
              "      display: none;\n",
              "      fill: #1967D2;\n",
              "      height: 32px;\n",
              "      padding: 0 0 0 0;\n",
              "      width: 32px;\n",
              "    }\n",
              "\n",
              "    .colab-df-convert:hover {\n",
              "      background-color: #E2EBFA;\n",
              "      box-shadow: 0px 1px 2px rgba(60, 64, 67, 0.3), 0px 1px 3px 1px rgba(60, 64, 67, 0.15);\n",
              "      fill: #174EA6;\n",
              "    }\n",
              "\n",
              "    [theme=dark] .colab-df-convert {\n",
              "      background-color: #3B4455;\n",
              "      fill: #D2E3FC;\n",
              "    }\n",
              "\n",
              "    [theme=dark] .colab-df-convert:hover {\n",
              "      background-color: #434B5C;\n",
              "      box-shadow: 0px 1px 3px 1px rgba(0, 0, 0, 0.15);\n",
              "      filter: drop-shadow(0px 1px 2px rgba(0, 0, 0, 0.3));\n",
              "      fill: #FFFFFF;\n",
              "    }\n",
              "  </style>\n",
              "\n",
              "      <script>\n",
              "        const buttonEl =\n",
              "          document.querySelector('#df-663f3856-ba03-441d-b79b-80879540a02a button.colab-df-convert');\n",
              "        buttonEl.style.display =\n",
              "          google.colab.kernel.accessAllowed ? 'block' : 'none';\n",
              "\n",
              "        async function convertToInteractive(key) {\n",
              "          const element = document.querySelector('#df-663f3856-ba03-441d-b79b-80879540a02a');\n",
              "          const dataTable =\n",
              "            await google.colab.kernel.invokeFunction('convertToInteractive',\n",
              "                                                     [key], {});\n",
              "          if (!dataTable) return;\n",
              "\n",
              "          const docLinkHtml = 'Like what you see? Visit the ' +\n",
              "            '<a target=\"_blank\" href=https://colab.research.google.com/notebooks/data_table.ipynb>data table notebook</a>'\n",
              "            + ' to learn more about interactive tables.';\n",
              "          element.innerHTML = '';\n",
              "          dataTable['output_type'] = 'display_data';\n",
              "          await google.colab.output.renderOutput(dataTable, element);\n",
              "          const docLink = document.createElement('div');\n",
              "          docLink.innerHTML = docLinkHtml;\n",
              "          element.appendChild(docLink);\n",
              "        }\n",
              "      </script>\n",
              "    </div>\n",
              "  </div>\n",
              "  "
            ]
          },
          "metadata": {},
          "execution_count": 22
        }
      ]
    },
    {
      "cell_type": "code",
      "source": [
        "from sklearn.preprocessing import OneHotEncoder\n",
        "oh_encoder = OneHotEncoder()"
      ],
      "metadata": {
        "id": "2_8nItj-21fI"
      },
      "execution_count": 23,
      "outputs": []
    },
    {
      "cell_type": "code",
      "source": [
        "feature_array = oh_encoder.fit_transform(df[['region']]).toarray()"
      ],
      "metadata": {
        "id": "YXuIFbWW21dK"
      },
      "execution_count": 24,
      "outputs": []
    },
    {
      "cell_type": "code",
      "source": [
        "feature_labels = oh_encoder.categories_"
      ],
      "metadata": {
        "id": "t0H1Bkz521aA"
      },
      "execution_count": 25,
      "outputs": []
    },
    {
      "cell_type": "code",
      "source": [
        "feature_labels = np.array(feature_labels).ravel()\n",
        "print(feature_labels)"
      ],
      "metadata": {
        "colab": {
          "base_uri": "https://localhost:8080/"
        },
        "id": "U2Ni1zbq21Vr",
        "outputId": "6ad5ef38-762b-4f67-ae18-c05b970ed863"
      },
      "execution_count": 26,
      "outputs": [
        {
          "output_type": "stream",
          "name": "stdout",
          "text": [
            "['northeast' 'northwest' 'southeast' 'southwest']\n"
          ]
        }
      ]
    },
    {
      "cell_type": "code",
      "source": [
        "features = pd.DataFrame(feature_array, columns = feature_labels) \n",
        "features"
      ],
      "metadata": {
        "colab": {
          "base_uri": "https://localhost:8080/",
          "height": 424
        },
        "id": "Az4K5vcO21Sn",
        "outputId": "b5c1da36-866f-4fdd-bd43-9596e1bf3936"
      },
      "execution_count": 27,
      "outputs": [
        {
          "output_type": "execute_result",
          "data": {
            "text/plain": [
              "      northeast  northwest  southeast  southwest\n",
              "0           0.0        0.0        0.0        1.0\n",
              "1           0.0        0.0        1.0        0.0\n",
              "2           0.0        0.0        1.0        0.0\n",
              "3           0.0        1.0        0.0        0.0\n",
              "4           0.0        1.0        0.0        0.0\n",
              "...         ...        ...        ...        ...\n",
              "1333        0.0        1.0        0.0        0.0\n",
              "1334        1.0        0.0        0.0        0.0\n",
              "1335        0.0        0.0        1.0        0.0\n",
              "1336        0.0        0.0        0.0        1.0\n",
              "1337        0.0        1.0        0.0        0.0\n",
              "\n",
              "[1338 rows x 4 columns]"
            ],
            "text/html": [
              "\n",
              "  <div id=\"df-9d34b7f9-9af0-495d-9561-9311135e2dfc\">\n",
              "    <div class=\"colab-df-container\">\n",
              "      <div>\n",
              "<style scoped>\n",
              "    .dataframe tbody tr th:only-of-type {\n",
              "        vertical-align: middle;\n",
              "    }\n",
              "\n",
              "    .dataframe tbody tr th {\n",
              "        vertical-align: top;\n",
              "    }\n",
              "\n",
              "    .dataframe thead th {\n",
              "        text-align: right;\n",
              "    }\n",
              "</style>\n",
              "<table border=\"1\" class=\"dataframe\">\n",
              "  <thead>\n",
              "    <tr style=\"text-align: right;\">\n",
              "      <th></th>\n",
              "      <th>northeast</th>\n",
              "      <th>northwest</th>\n",
              "      <th>southeast</th>\n",
              "      <th>southwest</th>\n",
              "    </tr>\n",
              "  </thead>\n",
              "  <tbody>\n",
              "    <tr>\n",
              "      <th>0</th>\n",
              "      <td>0.0</td>\n",
              "      <td>0.0</td>\n",
              "      <td>0.0</td>\n",
              "      <td>1.0</td>\n",
              "    </tr>\n",
              "    <tr>\n",
              "      <th>1</th>\n",
              "      <td>0.0</td>\n",
              "      <td>0.0</td>\n",
              "      <td>1.0</td>\n",
              "      <td>0.0</td>\n",
              "    </tr>\n",
              "    <tr>\n",
              "      <th>2</th>\n",
              "      <td>0.0</td>\n",
              "      <td>0.0</td>\n",
              "      <td>1.0</td>\n",
              "      <td>0.0</td>\n",
              "    </tr>\n",
              "    <tr>\n",
              "      <th>3</th>\n",
              "      <td>0.0</td>\n",
              "      <td>1.0</td>\n",
              "      <td>0.0</td>\n",
              "      <td>0.0</td>\n",
              "    </tr>\n",
              "    <tr>\n",
              "      <th>4</th>\n",
              "      <td>0.0</td>\n",
              "      <td>1.0</td>\n",
              "      <td>0.0</td>\n",
              "      <td>0.0</td>\n",
              "    </tr>\n",
              "    <tr>\n",
              "      <th>...</th>\n",
              "      <td>...</td>\n",
              "      <td>...</td>\n",
              "      <td>...</td>\n",
              "      <td>...</td>\n",
              "    </tr>\n",
              "    <tr>\n",
              "      <th>1333</th>\n",
              "      <td>0.0</td>\n",
              "      <td>1.0</td>\n",
              "      <td>0.0</td>\n",
              "      <td>0.0</td>\n",
              "    </tr>\n",
              "    <tr>\n",
              "      <th>1334</th>\n",
              "      <td>1.0</td>\n",
              "      <td>0.0</td>\n",
              "      <td>0.0</td>\n",
              "      <td>0.0</td>\n",
              "    </tr>\n",
              "    <tr>\n",
              "      <th>1335</th>\n",
              "      <td>0.0</td>\n",
              "      <td>0.0</td>\n",
              "      <td>1.0</td>\n",
              "      <td>0.0</td>\n",
              "    </tr>\n",
              "    <tr>\n",
              "      <th>1336</th>\n",
              "      <td>0.0</td>\n",
              "      <td>0.0</td>\n",
              "      <td>0.0</td>\n",
              "      <td>1.0</td>\n",
              "    </tr>\n",
              "    <tr>\n",
              "      <th>1337</th>\n",
              "      <td>0.0</td>\n",
              "      <td>1.0</td>\n",
              "      <td>0.0</td>\n",
              "      <td>0.0</td>\n",
              "    </tr>\n",
              "  </tbody>\n",
              "</table>\n",
              "<p>1338 rows × 4 columns</p>\n",
              "</div>\n",
              "      <button class=\"colab-df-convert\" onclick=\"convertToInteractive('df-9d34b7f9-9af0-495d-9561-9311135e2dfc')\"\n",
              "              title=\"Convert this dataframe to an interactive table.\"\n",
              "              style=\"display:none;\">\n",
              "        \n",
              "  <svg xmlns=\"http://www.w3.org/2000/svg\" height=\"24px\"viewBox=\"0 0 24 24\"\n",
              "       width=\"24px\">\n",
              "    <path d=\"M0 0h24v24H0V0z\" fill=\"none\"/>\n",
              "    <path d=\"M18.56 5.44l.94 2.06.94-2.06 2.06-.94-2.06-.94-.94-2.06-.94 2.06-2.06.94zm-11 1L8.5 8.5l.94-2.06 2.06-.94-2.06-.94L8.5 2.5l-.94 2.06-2.06.94zm10 10l.94 2.06.94-2.06 2.06-.94-2.06-.94-.94-2.06-.94 2.06-2.06.94z\"/><path d=\"M17.41 7.96l-1.37-1.37c-.4-.4-.92-.59-1.43-.59-.52 0-1.04.2-1.43.59L10.3 9.45l-7.72 7.72c-.78.78-.78 2.05 0 2.83L4 21.41c.39.39.9.59 1.41.59.51 0 1.02-.2 1.41-.59l7.78-7.78 2.81-2.81c.8-.78.8-2.07 0-2.86zM5.41 20L4 18.59l7.72-7.72 1.47 1.35L5.41 20z\"/>\n",
              "  </svg>\n",
              "      </button>\n",
              "      \n",
              "  <style>\n",
              "    .colab-df-container {\n",
              "      display:flex;\n",
              "      flex-wrap:wrap;\n",
              "      gap: 12px;\n",
              "    }\n",
              "\n",
              "    .colab-df-convert {\n",
              "      background-color: #E8F0FE;\n",
              "      border: none;\n",
              "      border-radius: 50%;\n",
              "      cursor: pointer;\n",
              "      display: none;\n",
              "      fill: #1967D2;\n",
              "      height: 32px;\n",
              "      padding: 0 0 0 0;\n",
              "      width: 32px;\n",
              "    }\n",
              "\n",
              "    .colab-df-convert:hover {\n",
              "      background-color: #E2EBFA;\n",
              "      box-shadow: 0px 1px 2px rgba(60, 64, 67, 0.3), 0px 1px 3px 1px rgba(60, 64, 67, 0.15);\n",
              "      fill: #174EA6;\n",
              "    }\n",
              "\n",
              "    [theme=dark] .colab-df-convert {\n",
              "      background-color: #3B4455;\n",
              "      fill: #D2E3FC;\n",
              "    }\n",
              "\n",
              "    [theme=dark] .colab-df-convert:hover {\n",
              "      background-color: #434B5C;\n",
              "      box-shadow: 0px 1px 3px 1px rgba(0, 0, 0, 0.15);\n",
              "      filter: drop-shadow(0px 1px 2px rgba(0, 0, 0, 0.3));\n",
              "      fill: #FFFFFF;\n",
              "    }\n",
              "  </style>\n",
              "\n",
              "      <script>\n",
              "        const buttonEl =\n",
              "          document.querySelector('#df-9d34b7f9-9af0-495d-9561-9311135e2dfc button.colab-df-convert');\n",
              "        buttonEl.style.display =\n",
              "          google.colab.kernel.accessAllowed ? 'block' : 'none';\n",
              "\n",
              "        async function convertToInteractive(key) {\n",
              "          const element = document.querySelector('#df-9d34b7f9-9af0-495d-9561-9311135e2dfc');\n",
              "          const dataTable =\n",
              "            await google.colab.kernel.invokeFunction('convertToInteractive',\n",
              "                                                     [key], {});\n",
              "          if (!dataTable) return;\n",
              "\n",
              "          const docLinkHtml = 'Like what you see? Visit the ' +\n",
              "            '<a target=\"_blank\" href=https://colab.research.google.com/notebooks/data_table.ipynb>data table notebook</a>'\n",
              "            + ' to learn more about interactive tables.';\n",
              "          element.innerHTML = '';\n",
              "          dataTable['output_type'] = 'display_data';\n",
              "          await google.colab.output.renderOutput(dataTable, element);\n",
              "          const docLink = document.createElement('div');\n",
              "          docLink.innerHTML = docLinkHtml;\n",
              "          element.appendChild(docLink);\n",
              "        }\n",
              "      </script>\n",
              "    </div>\n",
              "  </div>\n",
              "  "
            ]
          },
          "metadata": {},
          "execution_count": 27
        }
      ]
    },
    {
      "cell_type": "code",
      "source": [
        "data = pd.concat([data, features], axis = 1)\n",
        "data.head()"
      ],
      "metadata": {
        "colab": {
          "base_uri": "https://localhost:8080/",
          "height": 206
        },
        "id": "9KAXbw1CKT5b",
        "outputId": "2399ef7b-0ef8-41a0-f7f3-e07ab0b08a80"
      },
      "execution_count": 28,
      "outputs": [
        {
          "output_type": "execute_result",
          "data": {
            "text/plain": [
              "   age  sex     bmi  children  smoker     region      charges  northeast  \\\n",
              "0   19    0  27.900         0       1  southwest  16884.92400        0.0   \n",
              "1   18    1  33.770         1       0  southeast   1725.55230        0.0   \n",
              "2   28    1  33.000         3       0  southeast   4449.46200        0.0   \n",
              "3   33    1  22.705         0       0  northwest  21984.47061        0.0   \n",
              "4   32    1  28.880         0       0  northwest   3866.85520        0.0   \n",
              "\n",
              "   northwest  southeast  southwest  \n",
              "0        0.0        0.0        1.0  \n",
              "1        0.0        1.0        0.0  \n",
              "2        0.0        1.0        0.0  \n",
              "3        1.0        0.0        0.0  \n",
              "4        1.0        0.0        0.0  "
            ],
            "text/html": [
              "\n",
              "  <div id=\"df-5bd7d857-1c63-4ecd-b1b7-c27541634f48\">\n",
              "    <div class=\"colab-df-container\">\n",
              "      <div>\n",
              "<style scoped>\n",
              "    .dataframe tbody tr th:only-of-type {\n",
              "        vertical-align: middle;\n",
              "    }\n",
              "\n",
              "    .dataframe tbody tr th {\n",
              "        vertical-align: top;\n",
              "    }\n",
              "\n",
              "    .dataframe thead th {\n",
              "        text-align: right;\n",
              "    }\n",
              "</style>\n",
              "<table border=\"1\" class=\"dataframe\">\n",
              "  <thead>\n",
              "    <tr style=\"text-align: right;\">\n",
              "      <th></th>\n",
              "      <th>age</th>\n",
              "      <th>sex</th>\n",
              "      <th>bmi</th>\n",
              "      <th>children</th>\n",
              "      <th>smoker</th>\n",
              "      <th>region</th>\n",
              "      <th>charges</th>\n",
              "      <th>northeast</th>\n",
              "      <th>northwest</th>\n",
              "      <th>southeast</th>\n",
              "      <th>southwest</th>\n",
              "    </tr>\n",
              "  </thead>\n",
              "  <tbody>\n",
              "    <tr>\n",
              "      <th>0</th>\n",
              "      <td>19</td>\n",
              "      <td>0</td>\n",
              "      <td>27.900</td>\n",
              "      <td>0</td>\n",
              "      <td>1</td>\n",
              "      <td>southwest</td>\n",
              "      <td>16884.92400</td>\n",
              "      <td>0.0</td>\n",
              "      <td>0.0</td>\n",
              "      <td>0.0</td>\n",
              "      <td>1.0</td>\n",
              "    </tr>\n",
              "    <tr>\n",
              "      <th>1</th>\n",
              "      <td>18</td>\n",
              "      <td>1</td>\n",
              "      <td>33.770</td>\n",
              "      <td>1</td>\n",
              "      <td>0</td>\n",
              "      <td>southeast</td>\n",
              "      <td>1725.55230</td>\n",
              "      <td>0.0</td>\n",
              "      <td>0.0</td>\n",
              "      <td>1.0</td>\n",
              "      <td>0.0</td>\n",
              "    </tr>\n",
              "    <tr>\n",
              "      <th>2</th>\n",
              "      <td>28</td>\n",
              "      <td>1</td>\n",
              "      <td>33.000</td>\n",
              "      <td>3</td>\n",
              "      <td>0</td>\n",
              "      <td>southeast</td>\n",
              "      <td>4449.46200</td>\n",
              "      <td>0.0</td>\n",
              "      <td>0.0</td>\n",
              "      <td>1.0</td>\n",
              "      <td>0.0</td>\n",
              "    </tr>\n",
              "    <tr>\n",
              "      <th>3</th>\n",
              "      <td>33</td>\n",
              "      <td>1</td>\n",
              "      <td>22.705</td>\n",
              "      <td>0</td>\n",
              "      <td>0</td>\n",
              "      <td>northwest</td>\n",
              "      <td>21984.47061</td>\n",
              "      <td>0.0</td>\n",
              "      <td>1.0</td>\n",
              "      <td>0.0</td>\n",
              "      <td>0.0</td>\n",
              "    </tr>\n",
              "    <tr>\n",
              "      <th>4</th>\n",
              "      <td>32</td>\n",
              "      <td>1</td>\n",
              "      <td>28.880</td>\n",
              "      <td>0</td>\n",
              "      <td>0</td>\n",
              "      <td>northwest</td>\n",
              "      <td>3866.85520</td>\n",
              "      <td>0.0</td>\n",
              "      <td>1.0</td>\n",
              "      <td>0.0</td>\n",
              "      <td>0.0</td>\n",
              "    </tr>\n",
              "  </tbody>\n",
              "</table>\n",
              "</div>\n",
              "      <button class=\"colab-df-convert\" onclick=\"convertToInteractive('df-5bd7d857-1c63-4ecd-b1b7-c27541634f48')\"\n",
              "              title=\"Convert this dataframe to an interactive table.\"\n",
              "              style=\"display:none;\">\n",
              "        \n",
              "  <svg xmlns=\"http://www.w3.org/2000/svg\" height=\"24px\"viewBox=\"0 0 24 24\"\n",
              "       width=\"24px\">\n",
              "    <path d=\"M0 0h24v24H0V0z\" fill=\"none\"/>\n",
              "    <path d=\"M18.56 5.44l.94 2.06.94-2.06 2.06-.94-2.06-.94-.94-2.06-.94 2.06-2.06.94zm-11 1L8.5 8.5l.94-2.06 2.06-.94-2.06-.94L8.5 2.5l-.94 2.06-2.06.94zm10 10l.94 2.06.94-2.06 2.06-.94-2.06-.94-.94-2.06-.94 2.06-2.06.94z\"/><path d=\"M17.41 7.96l-1.37-1.37c-.4-.4-.92-.59-1.43-.59-.52 0-1.04.2-1.43.59L10.3 9.45l-7.72 7.72c-.78.78-.78 2.05 0 2.83L4 21.41c.39.39.9.59 1.41.59.51 0 1.02-.2 1.41-.59l7.78-7.78 2.81-2.81c.8-.78.8-2.07 0-2.86zM5.41 20L4 18.59l7.72-7.72 1.47 1.35L5.41 20z\"/>\n",
              "  </svg>\n",
              "      </button>\n",
              "      \n",
              "  <style>\n",
              "    .colab-df-container {\n",
              "      display:flex;\n",
              "      flex-wrap:wrap;\n",
              "      gap: 12px;\n",
              "    }\n",
              "\n",
              "    .colab-df-convert {\n",
              "      background-color: #E8F0FE;\n",
              "      border: none;\n",
              "      border-radius: 50%;\n",
              "      cursor: pointer;\n",
              "      display: none;\n",
              "      fill: #1967D2;\n",
              "      height: 32px;\n",
              "      padding: 0 0 0 0;\n",
              "      width: 32px;\n",
              "    }\n",
              "\n",
              "    .colab-df-convert:hover {\n",
              "      background-color: #E2EBFA;\n",
              "      box-shadow: 0px 1px 2px rgba(60, 64, 67, 0.3), 0px 1px 3px 1px rgba(60, 64, 67, 0.15);\n",
              "      fill: #174EA6;\n",
              "    }\n",
              "\n",
              "    [theme=dark] .colab-df-convert {\n",
              "      background-color: #3B4455;\n",
              "      fill: #D2E3FC;\n",
              "    }\n",
              "\n",
              "    [theme=dark] .colab-df-convert:hover {\n",
              "      background-color: #434B5C;\n",
              "      box-shadow: 0px 1px 3px 1px rgba(0, 0, 0, 0.15);\n",
              "      filter: drop-shadow(0px 1px 2px rgba(0, 0, 0, 0.3));\n",
              "      fill: #FFFFFF;\n",
              "    }\n",
              "  </style>\n",
              "\n",
              "      <script>\n",
              "        const buttonEl =\n",
              "          document.querySelector('#df-5bd7d857-1c63-4ecd-b1b7-c27541634f48 button.colab-df-convert');\n",
              "        buttonEl.style.display =\n",
              "          google.colab.kernel.accessAllowed ? 'block' : 'none';\n",
              "\n",
              "        async function convertToInteractive(key) {\n",
              "          const element = document.querySelector('#df-5bd7d857-1c63-4ecd-b1b7-c27541634f48');\n",
              "          const dataTable =\n",
              "            await google.colab.kernel.invokeFunction('convertToInteractive',\n",
              "                                                     [key], {});\n",
              "          if (!dataTable) return;\n",
              "\n",
              "          const docLinkHtml = 'Like what you see? Visit the ' +\n",
              "            '<a target=\"_blank\" href=https://colab.research.google.com/notebooks/data_table.ipynb>data table notebook</a>'\n",
              "            + ' to learn more about interactive tables.';\n",
              "          element.innerHTML = '';\n",
              "          dataTable['output_type'] = 'display_data';\n",
              "          await google.colab.output.renderOutput(dataTable, element);\n",
              "          const docLink = document.createElement('div');\n",
              "          docLink.innerHTML = docLinkHtml;\n",
              "          element.appendChild(docLink);\n",
              "        }\n",
              "      </script>\n",
              "    </div>\n",
              "  </div>\n",
              "  "
            ]
          },
          "metadata": {},
          "execution_count": 28
        }
      ]
    },
    {
      "cell_type": "code",
      "source": [
        "data = data.drop('region', axis = 1)\n",
        "data.head()"
      ],
      "metadata": {
        "colab": {
          "base_uri": "https://localhost:8080/",
          "height": 206
        },
        "id": "ETWaz2OJKTzw",
        "outputId": "28c9d476-b3be-4707-e4ab-7575fb904225"
      },
      "execution_count": 29,
      "outputs": [
        {
          "output_type": "execute_result",
          "data": {
            "text/plain": [
              "   age  sex     bmi  children  smoker      charges  northeast  northwest  \\\n",
              "0   19    0  27.900         0       1  16884.92400        0.0        0.0   \n",
              "1   18    1  33.770         1       0   1725.55230        0.0        0.0   \n",
              "2   28    1  33.000         3       0   4449.46200        0.0        0.0   \n",
              "3   33    1  22.705         0       0  21984.47061        0.0        1.0   \n",
              "4   32    1  28.880         0       0   3866.85520        0.0        1.0   \n",
              "\n",
              "   southeast  southwest  \n",
              "0        0.0        1.0  \n",
              "1        1.0        0.0  \n",
              "2        1.0        0.0  \n",
              "3        0.0        0.0  \n",
              "4        0.0        0.0  "
            ],
            "text/html": [
              "\n",
              "  <div id=\"df-f7cfbbb7-2e5b-4620-9882-35b7b8574851\">\n",
              "    <div class=\"colab-df-container\">\n",
              "      <div>\n",
              "<style scoped>\n",
              "    .dataframe tbody tr th:only-of-type {\n",
              "        vertical-align: middle;\n",
              "    }\n",
              "\n",
              "    .dataframe tbody tr th {\n",
              "        vertical-align: top;\n",
              "    }\n",
              "\n",
              "    .dataframe thead th {\n",
              "        text-align: right;\n",
              "    }\n",
              "</style>\n",
              "<table border=\"1\" class=\"dataframe\">\n",
              "  <thead>\n",
              "    <tr style=\"text-align: right;\">\n",
              "      <th></th>\n",
              "      <th>age</th>\n",
              "      <th>sex</th>\n",
              "      <th>bmi</th>\n",
              "      <th>children</th>\n",
              "      <th>smoker</th>\n",
              "      <th>charges</th>\n",
              "      <th>northeast</th>\n",
              "      <th>northwest</th>\n",
              "      <th>southeast</th>\n",
              "      <th>southwest</th>\n",
              "    </tr>\n",
              "  </thead>\n",
              "  <tbody>\n",
              "    <tr>\n",
              "      <th>0</th>\n",
              "      <td>19</td>\n",
              "      <td>0</td>\n",
              "      <td>27.900</td>\n",
              "      <td>0</td>\n",
              "      <td>1</td>\n",
              "      <td>16884.92400</td>\n",
              "      <td>0.0</td>\n",
              "      <td>0.0</td>\n",
              "      <td>0.0</td>\n",
              "      <td>1.0</td>\n",
              "    </tr>\n",
              "    <tr>\n",
              "      <th>1</th>\n",
              "      <td>18</td>\n",
              "      <td>1</td>\n",
              "      <td>33.770</td>\n",
              "      <td>1</td>\n",
              "      <td>0</td>\n",
              "      <td>1725.55230</td>\n",
              "      <td>0.0</td>\n",
              "      <td>0.0</td>\n",
              "      <td>1.0</td>\n",
              "      <td>0.0</td>\n",
              "    </tr>\n",
              "    <tr>\n",
              "      <th>2</th>\n",
              "      <td>28</td>\n",
              "      <td>1</td>\n",
              "      <td>33.000</td>\n",
              "      <td>3</td>\n",
              "      <td>0</td>\n",
              "      <td>4449.46200</td>\n",
              "      <td>0.0</td>\n",
              "      <td>0.0</td>\n",
              "      <td>1.0</td>\n",
              "      <td>0.0</td>\n",
              "    </tr>\n",
              "    <tr>\n",
              "      <th>3</th>\n",
              "      <td>33</td>\n",
              "      <td>1</td>\n",
              "      <td>22.705</td>\n",
              "      <td>0</td>\n",
              "      <td>0</td>\n",
              "      <td>21984.47061</td>\n",
              "      <td>0.0</td>\n",
              "      <td>1.0</td>\n",
              "      <td>0.0</td>\n",
              "      <td>0.0</td>\n",
              "    </tr>\n",
              "    <tr>\n",
              "      <th>4</th>\n",
              "      <td>32</td>\n",
              "      <td>1</td>\n",
              "      <td>28.880</td>\n",
              "      <td>0</td>\n",
              "      <td>0</td>\n",
              "      <td>3866.85520</td>\n",
              "      <td>0.0</td>\n",
              "      <td>1.0</td>\n",
              "      <td>0.0</td>\n",
              "      <td>0.0</td>\n",
              "    </tr>\n",
              "  </tbody>\n",
              "</table>\n",
              "</div>\n",
              "      <button class=\"colab-df-convert\" onclick=\"convertToInteractive('df-f7cfbbb7-2e5b-4620-9882-35b7b8574851')\"\n",
              "              title=\"Convert this dataframe to an interactive table.\"\n",
              "              style=\"display:none;\">\n",
              "        \n",
              "  <svg xmlns=\"http://www.w3.org/2000/svg\" height=\"24px\"viewBox=\"0 0 24 24\"\n",
              "       width=\"24px\">\n",
              "    <path d=\"M0 0h24v24H0V0z\" fill=\"none\"/>\n",
              "    <path d=\"M18.56 5.44l.94 2.06.94-2.06 2.06-.94-2.06-.94-.94-2.06-.94 2.06-2.06.94zm-11 1L8.5 8.5l.94-2.06 2.06-.94-2.06-.94L8.5 2.5l-.94 2.06-2.06.94zm10 10l.94 2.06.94-2.06 2.06-.94-2.06-.94-.94-2.06-.94 2.06-2.06.94z\"/><path d=\"M17.41 7.96l-1.37-1.37c-.4-.4-.92-.59-1.43-.59-.52 0-1.04.2-1.43.59L10.3 9.45l-7.72 7.72c-.78.78-.78 2.05 0 2.83L4 21.41c.39.39.9.59 1.41.59.51 0 1.02-.2 1.41-.59l7.78-7.78 2.81-2.81c.8-.78.8-2.07 0-2.86zM5.41 20L4 18.59l7.72-7.72 1.47 1.35L5.41 20z\"/>\n",
              "  </svg>\n",
              "      </button>\n",
              "      \n",
              "  <style>\n",
              "    .colab-df-container {\n",
              "      display:flex;\n",
              "      flex-wrap:wrap;\n",
              "      gap: 12px;\n",
              "    }\n",
              "\n",
              "    .colab-df-convert {\n",
              "      background-color: #E8F0FE;\n",
              "      border: none;\n",
              "      border-radius: 50%;\n",
              "      cursor: pointer;\n",
              "      display: none;\n",
              "      fill: #1967D2;\n",
              "      height: 32px;\n",
              "      padding: 0 0 0 0;\n",
              "      width: 32px;\n",
              "    }\n",
              "\n",
              "    .colab-df-convert:hover {\n",
              "      background-color: #E2EBFA;\n",
              "      box-shadow: 0px 1px 2px rgba(60, 64, 67, 0.3), 0px 1px 3px 1px rgba(60, 64, 67, 0.15);\n",
              "      fill: #174EA6;\n",
              "    }\n",
              "\n",
              "    [theme=dark] .colab-df-convert {\n",
              "      background-color: #3B4455;\n",
              "      fill: #D2E3FC;\n",
              "    }\n",
              "\n",
              "    [theme=dark] .colab-df-convert:hover {\n",
              "      background-color: #434B5C;\n",
              "      box-shadow: 0px 1px 3px 1px rgba(0, 0, 0, 0.15);\n",
              "      filter: drop-shadow(0px 1px 2px rgba(0, 0, 0, 0.3));\n",
              "      fill: #FFFFFF;\n",
              "    }\n",
              "  </style>\n",
              "\n",
              "      <script>\n",
              "        const buttonEl =\n",
              "          document.querySelector('#df-f7cfbbb7-2e5b-4620-9882-35b7b8574851 button.colab-df-convert');\n",
              "        buttonEl.style.display =\n",
              "          google.colab.kernel.accessAllowed ? 'block' : 'none';\n",
              "\n",
              "        async function convertToInteractive(key) {\n",
              "          const element = document.querySelector('#df-f7cfbbb7-2e5b-4620-9882-35b7b8574851');\n",
              "          const dataTable =\n",
              "            await google.colab.kernel.invokeFunction('convertToInteractive',\n",
              "                                                     [key], {});\n",
              "          if (!dataTable) return;\n",
              "\n",
              "          const docLinkHtml = 'Like what you see? Visit the ' +\n",
              "            '<a target=\"_blank\" href=https://colab.research.google.com/notebooks/data_table.ipynb>data table notebook</a>'\n",
              "            + ' to learn more about interactive tables.';\n",
              "          element.innerHTML = '';\n",
              "          dataTable['output_type'] = 'display_data';\n",
              "          await google.colab.output.renderOutput(dataTable, element);\n",
              "          const docLink = document.createElement('div');\n",
              "          docLink.innerHTML = docLinkHtml;\n",
              "          element.appendChild(docLink);\n",
              "        }\n",
              "      </script>\n",
              "    </div>\n",
              "  </div>\n",
              "  "
            ]
          },
          "metadata": {},
          "execution_count": 29
        }
      ]
    },
    {
      "cell_type": "code",
      "source": [
        "X = data.drop('charges', axis = 1)\n",
        "y = data['charges']"
      ],
      "metadata": {
        "id": "AxZwcmguUpBb"
      },
      "execution_count": 30,
      "outputs": []
    },
    {
      "cell_type": "code",
      "source": [
        "from sklearn.model_selection import train_test_split"
      ],
      "metadata": {
        "id": "3OjdeTwALVFw"
      },
      "execution_count": 31,
      "outputs": []
    },
    {
      "cell_type": "code",
      "source": [
        "X_train, X_test, y_train, y_test = train_test_split(X, y, test_size = 0.2)"
      ],
      "metadata": {
        "id": "PCC-1J3-LVCH"
      },
      "execution_count": 32,
      "outputs": []
    },
    {
      "cell_type": "code",
      "source": [
        "print('X_train', X_train.shape)\n",
        "print('X_test', X_test.shape)\n",
        "print('y_train', y_train.shape)\n",
        "print('y_test', y_test.shape)"
      ],
      "metadata": {
        "colab": {
          "base_uri": "https://localhost:8080/"
        },
        "id": "1M8Wkj5oLU_o",
        "outputId": "4ccbccd7-1127-458d-ab07-04758c46acc0"
      },
      "execution_count": 33,
      "outputs": [
        {
          "output_type": "stream",
          "name": "stdout",
          "text": [
            "X_train (1070, 9)\n",
            "X_test (268, 9)\n",
            "y_train (1070,)\n",
            "y_test (268,)\n"
          ]
        }
      ]
    },
    {
      "cell_type": "code",
      "source": [
        "\n",
        "y_train = np.array(y_train)\n",
        "y_test = np.array(y_test)"
      ],
      "metadata": {
        "id": "1PlwaPBfKC5z"
      },
      "execution_count": null,
      "outputs": []
    },
    {
      "cell_type": "code",
      "source": [
        "\n",
        "y_train = y_train.reshape(-1, 9)\n",
        "y_test = y_test.reshape(-1, 9) "
      ],
      "metadata": {
        "colab": {
          "base_uri": "https://localhost:8080/",
          "height": 187
        },
        "id": "ggVoYVvWUFcp",
        "outputId": "e1c857bc-24d7-4c65-a16a-114e8585484b"
      },
      "execution_count": null,
      "outputs": [
        {
          "output_type": "error",
          "ename": "ValueError",
          "evalue": "ignored",
          "traceback": [
            "\u001b[0;31m---------------------------------------------------------------------------\u001b[0m",
            "\u001b[0;31mValueError\u001b[0m                                Traceback (most recent call last)",
            "\u001b[0;32m<ipython-input-41-584b012a75fa>\u001b[0m in \u001b[0;36m<module>\u001b[0;34m\u001b[0m\n\u001b[0;32m----> 1\u001b[0;31m \u001b[0my_train\u001b[0m \u001b[0;34m=\u001b[0m \u001b[0my_train\u001b[0m\u001b[0;34m.\u001b[0m\u001b[0mreshape\u001b[0m\u001b[0;34m(\u001b[0m\u001b[0;34m-\u001b[0m\u001b[0;36m1\u001b[0m\u001b[0;34m,\u001b[0m \u001b[0;36m9\u001b[0m\u001b[0;34m)\u001b[0m\u001b[0;34m\u001b[0m\u001b[0;34m\u001b[0m\u001b[0m\n\u001b[0m\u001b[1;32m      2\u001b[0m \u001b[0my_test\u001b[0m \u001b[0;34m=\u001b[0m \u001b[0my_test\u001b[0m\u001b[0;34m.\u001b[0m\u001b[0mreshape\u001b[0m\u001b[0;34m(\u001b[0m\u001b[0;34m-\u001b[0m\u001b[0;36m1\u001b[0m\u001b[0;34m,\u001b[0m \u001b[0;36m9\u001b[0m\u001b[0;34m)\u001b[0m\u001b[0;34m\u001b[0m\u001b[0;34m\u001b[0m\u001b[0m\n",
            "\u001b[0;31mValueError\u001b[0m: cannot reshape array of size 1070 into shape (9)"
          ]
        }
      ]
    },
    {
      "cell_type": "code",
      "source": [
        "print('X_train', X_train.shape)\n",
        "print('X_test', X_test.shape)\n",
        "print('y_train', y_train.shape)\n",
        "print('y_test', y_test.shape)"
      ],
      "metadata": {
        "colab": {
          "base_uri": "https://localhost:8080/"
        },
        "id": "0DxnfQkoKbL7",
        "outputId": "90fc166e-f5de-49e1-86f5-42bfe6d86baf"
      },
      "execution_count": null,
      "outputs": [
        {
          "output_type": "stream",
          "name": "stdout",
          "text": [
            "X_train (1070, 9)\n",
            "X_test (268, 9)\n",
            "y_train (1070, 1)\n",
            "y_test (268, 1)\n"
          ]
        }
      ]
    },
    {
      "cell_type": "code",
      "source": [
        "from sklearn.preprocessing import RobustScaler\n",
        "\n",
        "X_train  = RobustScaler().fit(X_train ).transform(X_train)\n"
      ],
      "metadata": {
        "id": "0SbdvvXY88z_"
      },
      "execution_count": 34,
      "outputs": []
    },
    {
      "cell_type": "code",
      "source": [
        "'''from sklearn.preprocessing import MinMaxScaler\n",
        "mms = MinMaxScaler()\n",
        "X_train = mms.fit_transform(X_train) #Eğitim setine normalizasyon uygulamak\n",
        "X_test= mms.transform(X_test) #Test setine normalizasyon uygulamak'''"
      ],
      "metadata": {
        "id": "02k5zwb2LU8z"
      },
      "execution_count": null,
      "outputs": []
    },
    {
      "cell_type": "code",
      "source": [
        "from sklearn.linear_model import LinearRegression\n",
        "#from sklearn.tree import DecisionTreeRegressor \n"
      ],
      "metadata": {
        "id": "5ZXDg8ceUyEP"
      },
      "execution_count": 35,
      "outputs": []
    },
    {
      "cell_type": "code",
      "source": [
        "linear_model = LinearRegression()\n",
        "#decision_tree_model = DecisionTreeRegressor()"
      ],
      "metadata": {
        "id": "d0Nlk2VTHgte"
      },
      "execution_count": 36,
      "outputs": []
    },
    {
      "cell_type": "code",
      "source": [
        "linear_model.fit(X_train, y_train)\n",
        "#decision_tree_model.fit(X_train, y_train)"
      ],
      "metadata": {
        "colab": {
          "base_uri": "https://localhost:8080/"
        },
        "id": "1qE74EdlVdYf",
        "outputId": "b5d9be4d-1b54-4200-d717-35d316dd98a0"
      },
      "execution_count": 37,
      "outputs": [
        {
          "output_type": "execute_result",
          "data": {
            "text/plain": [
              "LinearRegression()"
            ]
          },
          "metadata": {},
          "execution_count": 37
        }
      ]
    },
    {
      "cell_type": "code",
      "source": [
        "lineer_pred = linear_model.predict(X_test)\n",
        "#decision_tree_pred = decision_tree_model.predict(X_test)"
      ],
      "metadata": {
        "colab": {
          "base_uri": "https://localhost:8080/"
        },
        "id": "T-DXGvB6VdWV",
        "outputId": "49676867-5e9f-4601-f1ca-75bae1721cb5"
      },
      "execution_count": 38,
      "outputs": [
        {
          "output_type": "stream",
          "name": "stderr",
          "text": [
            "/usr/local/lib/python3.7/dist-packages/sklearn/base.py:444: UserWarning: X has feature names, but LinearRegression was fitted without feature names\n",
            "  f\"X has feature names, but {self.__class__.__name__} was fitted without\"\n"
          ]
        }
      ]
    },
    {
      "cell_type": "code",
      "source": [
        "import sklearn.metrics"
      ],
      "metadata": {
        "id": "N2tuWX-GVdTm"
      },
      "execution_count": 39,
      "outputs": []
    },
    {
      "cell_type": "code",
      "source": [
        "predictions = linear_model.predict(X_test)\n",
        "predictions"
      ],
      "metadata": {
        "colab": {
          "base_uri": "https://localhost:8080/"
        },
        "id": "4Zm11VrvJdTs",
        "outputId": "9e1b3556-b89e-41df-99a0-56db8965b5a1"
      },
      "execution_count": 41,
      "outputs": [
        {
          "output_type": "stream",
          "name": "stderr",
          "text": [
            "/usr/local/lib/python3.7/dist-packages/sklearn/base.py:444: UserWarning: X has feature names, but LinearRegression was fitted without feature names\n",
            "  f\"X has feature names, but {self.__class__.__name__} was fitted without\"\n"
          ]
        },
        {
          "output_type": "execute_result",
          "data": {
            "text/plain": [
              "array([329731.65050248, 484448.04290747, 281645.71958314, 451033.31693595,\n",
              "       286248.7668544 , 432449.49231583, 431339.49701867, 411229.26359996,\n",
              "       394945.78794207, 398052.97007652, 217774.15721739, 296841.37336982,\n",
              "       376105.90489757, 403237.53087447, 442395.09691775, 310999.56835231,\n",
              "       333900.85715356, 371333.64822948, 397497.52645773, 266284.60313224,\n",
              "       403473.3096013 , 260868.71447717, 251200.27125793, 310238.68517174,\n",
              "       366642.27706351, 230730.94627506, 526498.15262518, 337117.20356481,\n",
              "       272693.67991365, 331539.93136612, 384706.46530408, 355909.99890261,\n",
              "       363811.09038094, 384892.20112867, 401852.13109058, 511001.22299734,\n",
              "       446176.67375156, 311933.6813417 , 198156.91773913, 261822.39864335,\n",
              "       407708.60369311, 336947.68144787, 239033.19576774, 470737.1467379 ,\n",
              "       208975.17846125, 495673.40889545, 246016.18143199, 395816.70934004,\n",
              "       209344.86578467, 405879.5529453 , 418326.41238655, 436219.61694366,\n",
              "       270383.24708734, 385594.67192548, 459730.28015637, 421816.09798426,\n",
              "       350293.90425107, 514796.72283981, 519220.28429842, 398079.76407718,\n",
              "       297772.30345111, 328122.33049697, 446251.31436058, 301160.21471388,\n",
              "       244116.05683017, 416369.57387863, 469650.81905666, 215750.58527315,\n",
              "       437803.97991304, 479949.36986783, 476546.64360779, 445600.52071467,\n",
              "       477176.84124673, 525935.46671134, 239208.32189945, 397811.83916714,\n",
              "       488926.48142163, 410854.718244  , 231996.2299102 , 499934.52860472,\n",
              "       547149.85180186, 318516.70075402, 392107.29819366, 521727.0655038 ,\n",
              "       424584.55738222, 513743.48312161, 331270.99629666, 318182.14948297,\n",
              "       481552.49761902, 320061.87538881, 472128.16299551, 506750.46942768,\n",
              "       485940.77473971, 497349.45750428, 355974.96454126, 240569.67152709,\n",
              "       442000.68221546, 450299.92109949, 282049.62954931, 267594.26120533,\n",
              "       268815.58277941, 277657.09812027, 242449.20481426, 522568.36916921,\n",
              "       313538.92316705, 455578.54385256, 502719.87115385, 320069.65492659,\n",
              "       272232.58238285, 269960.74705867, 333125.70743546, 277670.4353041 ,\n",
              "       454559.45814449, 446094.24532424, 349553.24959305, 437771.34924606,\n",
              "       218752.74314727, 186304.21109905, 188793.06553573, 257288.27317772,\n",
              "       210491.97016106, 311459.83471347, 253482.26907927, 320169.01876276,\n",
              "       421523.57142476, 274792.59187908, 381527.06495739, 377592.03504596,\n",
              "       272035.75191316, 301617.23943176, 416756.5683725 , 254691.32224858,\n",
              "       296602.83312052, 488924.23308289, 407649.29444709, 230420.71743186,\n",
              "       285156.34416884, 367502.8725079 , 238353.56524593, 279664.14981943,\n",
              "       339044.65884907, 469358.59451691, 437685.50505774, 463568.48398424,\n",
              "       212885.66781089, 246361.10278535, 232446.53102453, 237979.56789373,\n",
              "       513916.00547972, 462412.11364675, 383089.30408719, 328096.96456713,\n",
              "       473340.86905587, 322980.78182005, 446523.8374905 , 351111.71746121,\n",
              "       291470.8503176 , 275024.64197164, 326341.14565374, 382791.17309108,\n",
              "       239290.85345937, 294419.54868795, 461033.67678158, 303446.39532264,\n",
              "       381962.54720507, 264832.22871283, 198092.01956317, 339338.9536265 ,\n",
              "       283169.18871   , 364603.25148061, 271212.97769102, 276824.70912672,\n",
              "       404889.27999426, 321369.21781363, 362103.30696313, 294002.00184397,\n",
              "       361588.39947983, 293926.82816908, 371883.77793013, 327618.82377595,\n",
              "       458401.32824406, 408097.88470128, 313796.40213602, 189926.72585433,\n",
              "       357233.03446112, 451103.58441647, 445363.69589137, 473695.99918263,\n",
              "       518170.52424229, 287962.04249276, 293836.97311013, 235185.96290079,\n",
              "       427822.25255593, 367222.3707999 , 236315.06545265, 207211.02573626,\n",
              "       267428.39840265, 343867.02393739, 346918.72320673, 225465.44589297,\n",
              "       384864.17722923, 291763.61621898, 456605.27749409, 355367.43873319,\n",
              "       299508.93994001, 205224.40159994, 409938.31174812, 374854.8357175 ,\n",
              "       428777.78676719, 298668.53027525, 333359.58215535, 333321.87644207,\n",
              "       419556.36050718, 296417.16475861, 282372.84641154, 433824.16418942,\n",
              "       405177.55440904, 443987.19258616, 410153.65881627, 378686.92771411,\n",
              "       446172.66314806, 485445.04708644, 263871.82131809, 355800.61549715,\n",
              "       360779.20116181, 366267.09492506, 341868.27441021, 245518.86428345,\n",
              "       478695.12373441, 306312.33486747, 198724.52257185, 237094.88909624,\n",
              "       338498.60679435, 383828.48239397, 244158.99510449, 461224.48950981,\n",
              "       313708.43912791, 430273.94685234, 318942.14434893, 416827.24722724,\n",
              "       488327.31248918, 500884.04492136, 523944.87433175, 215672.53487311,\n",
              "       342973.43624146, 487857.43990425, 344232.51966952, 376006.85339886,\n",
              "       303193.98034512, 233356.5171537 , 232662.47920524, 326390.35765504,\n",
              "       306037.91426778, 303808.42449986, 436255.56112933, 412674.03340223,\n",
              "       356986.05583055, 444098.65527369, 369723.61936918, 407441.98442507,\n",
              "       220577.2442573 , 188525.14062569, 418384.3624615 , 382675.70680725,\n",
              "       464299.92547308, 371904.24567899, 446851.94459243, 443229.79970226])"
            ]
          },
          "metadata": {},
          "execution_count": 41
        }
      ]
    },
    {
      "cell_type": "code",
      "source": [
        "print(y_test)"
      ],
      "metadata": {
        "colab": {
          "base_uri": "https://localhost:8080/"
        },
        "id": "j7wJcj3Q9ZCx",
        "outputId": "ff28929e-10dd-4168-bda4-09064f1cd909"
      },
      "execution_count": 47,
      "outputs": [
        {
          "output_type": "stream",
          "name": "stdout",
          "text": [
            "426      6555.07035\n",
            "86      43578.93940\n",
            "69      17663.14420\n",
            "474     25382.29700\n",
            "1174     4433.91590\n",
            "           ...     \n",
            "667     40003.33225\n",
            "45      20630.28351\n",
            "372      7639.41745\n",
            "98      22412.64850\n",
            "96      12105.32000\n",
            "Name: charges, Length: 268, dtype: float64\n"
          ]
        }
      ]
    },
    {
      "cell_type": "code",
      "source": [
        "for i in range(len(y_test)):\n",
        "  print(f'{i}: Gerçek Değer: {y_test[i]} - Tahmin: {predictions[i]}')\n",
        "  "
      ],
      "metadata": {
        "colab": {
          "base_uri": "https://localhost:8080/",
          "height": 555
        },
        "id": "iMDQmcpu-7b4",
        "outputId": "9b335712-df49-49a6-bf48-0680b21753e1"
      },
      "execution_count": 54,
      "outputs": [
        {
          "output_type": "stream",
          "name": "stdout",
          "text": [
            "0: Gerçek Değer: 16884.924 - Tahmin: 329731.65050247795\n"
          ]
        },
        {
          "output_type": "error",
          "ename": "KeyError",
          "evalue": "ignored",
          "traceback": [
            "\u001b[0;31m---------------------------------------------------------------------------\u001b[0m",
            "\u001b[0;31mKeyError\u001b[0m                                  Traceback (most recent call last)",
            "\u001b[0;32m/usr/local/lib/python3.7/dist-packages/pandas/core/indexes/base.py\u001b[0m in \u001b[0;36mget_loc\u001b[0;34m(self, key, method, tolerance)\u001b[0m\n\u001b[1;32m   3360\u001b[0m             \u001b[0;32mtry\u001b[0m\u001b[0;34m:\u001b[0m\u001b[0;34m\u001b[0m\u001b[0;34m\u001b[0m\u001b[0m\n\u001b[0;32m-> 3361\u001b[0;31m                 \u001b[0;32mreturn\u001b[0m \u001b[0mself\u001b[0m\u001b[0;34m.\u001b[0m\u001b[0m_engine\u001b[0m\u001b[0;34m.\u001b[0m\u001b[0mget_loc\u001b[0m\u001b[0;34m(\u001b[0m\u001b[0mcasted_key\u001b[0m\u001b[0;34m)\u001b[0m\u001b[0;34m\u001b[0m\u001b[0;34m\u001b[0m\u001b[0m\n\u001b[0m\u001b[1;32m   3362\u001b[0m             \u001b[0;32mexcept\u001b[0m \u001b[0mKeyError\u001b[0m \u001b[0;32mas\u001b[0m \u001b[0merr\u001b[0m\u001b[0;34m:\u001b[0m\u001b[0;34m\u001b[0m\u001b[0;34m\u001b[0m\u001b[0m\n",
            "\u001b[0;32m/usr/local/lib/python3.7/dist-packages/pandas/_libs/index.pyx\u001b[0m in \u001b[0;36mpandas._libs.index.IndexEngine.get_loc\u001b[0;34m()\u001b[0m\n",
            "\u001b[0;32m/usr/local/lib/python3.7/dist-packages/pandas/_libs/index.pyx\u001b[0m in \u001b[0;36mpandas._libs.index.IndexEngine.get_loc\u001b[0;34m()\u001b[0m\n",
            "\u001b[0;32mpandas/_libs/hashtable_class_helper.pxi\u001b[0m in \u001b[0;36mpandas._libs.hashtable.Int64HashTable.get_item\u001b[0;34m()\u001b[0m\n",
            "\u001b[0;32mpandas/_libs/hashtable_class_helper.pxi\u001b[0m in \u001b[0;36mpandas._libs.hashtable.Int64HashTable.get_item\u001b[0;34m()\u001b[0m\n",
            "\u001b[0;31mKeyError\u001b[0m: 1",
            "\nThe above exception was the direct cause of the following exception:\n",
            "\u001b[0;31mKeyError\u001b[0m                                  Traceback (most recent call last)",
            "\u001b[0;32m<ipython-input-54-2a11ce4f2c5c>\u001b[0m in \u001b[0;36m<module>\u001b[0;34m\u001b[0m\n\u001b[1;32m      1\u001b[0m \u001b[0;32mfor\u001b[0m \u001b[0mi\u001b[0m \u001b[0;32min\u001b[0m \u001b[0mrange\u001b[0m\u001b[0;34m(\u001b[0m\u001b[0mlen\u001b[0m\u001b[0;34m(\u001b[0m\u001b[0my_test\u001b[0m\u001b[0;34m)\u001b[0m\u001b[0;34m)\u001b[0m\u001b[0;34m:\u001b[0m\u001b[0;34m\u001b[0m\u001b[0;34m\u001b[0m\u001b[0m\n\u001b[0;32m----> 2\u001b[0;31m   \u001b[0mprint\u001b[0m\u001b[0;34m(\u001b[0m\u001b[0;34mf'{i}: Gerçek Değer: {y_test[i]} - Tahmin: {predictions[i]}'\u001b[0m\u001b[0;34m)\u001b[0m\u001b[0;34m\u001b[0m\u001b[0;34m\u001b[0m\u001b[0m\n\u001b[0m\u001b[1;32m      3\u001b[0m \u001b[0;34m\u001b[0m\u001b[0m\n",
            "\u001b[0;32m/usr/local/lib/python3.7/dist-packages/pandas/core/series.py\u001b[0m in \u001b[0;36m__getitem__\u001b[0;34m(self, key)\u001b[0m\n\u001b[1;32m    940\u001b[0m \u001b[0;34m\u001b[0m\u001b[0m\n\u001b[1;32m    941\u001b[0m         \u001b[0;32melif\u001b[0m \u001b[0mkey_is_scalar\u001b[0m\u001b[0;34m:\u001b[0m\u001b[0;34m\u001b[0m\u001b[0;34m\u001b[0m\u001b[0m\n\u001b[0;32m--> 942\u001b[0;31m             \u001b[0;32mreturn\u001b[0m \u001b[0mself\u001b[0m\u001b[0;34m.\u001b[0m\u001b[0m_get_value\u001b[0m\u001b[0;34m(\u001b[0m\u001b[0mkey\u001b[0m\u001b[0;34m)\u001b[0m\u001b[0;34m\u001b[0m\u001b[0;34m\u001b[0m\u001b[0m\n\u001b[0m\u001b[1;32m    943\u001b[0m \u001b[0;34m\u001b[0m\u001b[0m\n\u001b[1;32m    944\u001b[0m         \u001b[0;32mif\u001b[0m \u001b[0mis_hashable\u001b[0m\u001b[0;34m(\u001b[0m\u001b[0mkey\u001b[0m\u001b[0;34m)\u001b[0m\u001b[0;34m:\u001b[0m\u001b[0;34m\u001b[0m\u001b[0;34m\u001b[0m\u001b[0m\n",
            "\u001b[0;32m/usr/local/lib/python3.7/dist-packages/pandas/core/series.py\u001b[0m in \u001b[0;36m_get_value\u001b[0;34m(self, label, takeable)\u001b[0m\n\u001b[1;32m   1049\u001b[0m \u001b[0;34m\u001b[0m\u001b[0m\n\u001b[1;32m   1050\u001b[0m         \u001b[0;31m# Similar to Index.get_value, but we do not fall back to positional\u001b[0m\u001b[0;34m\u001b[0m\u001b[0;34m\u001b[0m\u001b[0;34m\u001b[0m\u001b[0m\n\u001b[0;32m-> 1051\u001b[0;31m         \u001b[0mloc\u001b[0m \u001b[0;34m=\u001b[0m \u001b[0mself\u001b[0m\u001b[0;34m.\u001b[0m\u001b[0mindex\u001b[0m\u001b[0;34m.\u001b[0m\u001b[0mget_loc\u001b[0m\u001b[0;34m(\u001b[0m\u001b[0mlabel\u001b[0m\u001b[0;34m)\u001b[0m\u001b[0;34m\u001b[0m\u001b[0;34m\u001b[0m\u001b[0m\n\u001b[0m\u001b[1;32m   1052\u001b[0m         \u001b[0;32mreturn\u001b[0m \u001b[0mself\u001b[0m\u001b[0;34m.\u001b[0m\u001b[0mindex\u001b[0m\u001b[0;34m.\u001b[0m\u001b[0m_get_values_for_loc\u001b[0m\u001b[0;34m(\u001b[0m\u001b[0mself\u001b[0m\u001b[0;34m,\u001b[0m \u001b[0mloc\u001b[0m\u001b[0;34m,\u001b[0m \u001b[0mlabel\u001b[0m\u001b[0;34m)\u001b[0m\u001b[0;34m\u001b[0m\u001b[0;34m\u001b[0m\u001b[0m\n\u001b[1;32m   1053\u001b[0m \u001b[0;34m\u001b[0m\u001b[0m\n",
            "\u001b[0;32m/usr/local/lib/python3.7/dist-packages/pandas/core/indexes/base.py\u001b[0m in \u001b[0;36mget_loc\u001b[0;34m(self, key, method, tolerance)\u001b[0m\n\u001b[1;32m   3361\u001b[0m                 \u001b[0;32mreturn\u001b[0m \u001b[0mself\u001b[0m\u001b[0;34m.\u001b[0m\u001b[0m_engine\u001b[0m\u001b[0;34m.\u001b[0m\u001b[0mget_loc\u001b[0m\u001b[0;34m(\u001b[0m\u001b[0mcasted_key\u001b[0m\u001b[0;34m)\u001b[0m\u001b[0;34m\u001b[0m\u001b[0;34m\u001b[0m\u001b[0m\n\u001b[1;32m   3362\u001b[0m             \u001b[0;32mexcept\u001b[0m \u001b[0mKeyError\u001b[0m \u001b[0;32mas\u001b[0m \u001b[0merr\u001b[0m\u001b[0;34m:\u001b[0m\u001b[0;34m\u001b[0m\u001b[0;34m\u001b[0m\u001b[0m\n\u001b[0;32m-> 3363\u001b[0;31m                 \u001b[0;32mraise\u001b[0m \u001b[0mKeyError\u001b[0m\u001b[0;34m(\u001b[0m\u001b[0mkey\u001b[0m\u001b[0;34m)\u001b[0m \u001b[0;32mfrom\u001b[0m \u001b[0merr\u001b[0m\u001b[0;34m\u001b[0m\u001b[0;34m\u001b[0m\u001b[0m\n\u001b[0m\u001b[1;32m   3364\u001b[0m \u001b[0;34m\u001b[0m\u001b[0m\n\u001b[1;32m   3365\u001b[0m         \u001b[0;32mif\u001b[0m \u001b[0mis_scalar\u001b[0m\u001b[0;34m(\u001b[0m\u001b[0mkey\u001b[0m\u001b[0;34m)\u001b[0m \u001b[0;32mand\u001b[0m \u001b[0misna\u001b[0m\u001b[0;34m(\u001b[0m\u001b[0mkey\u001b[0m\u001b[0;34m)\u001b[0m \u001b[0;32mand\u001b[0m \u001b[0;32mnot\u001b[0m \u001b[0mself\u001b[0m\u001b[0;34m.\u001b[0m\u001b[0mhasnans\u001b[0m\u001b[0;34m:\u001b[0m\u001b[0;34m\u001b[0m\u001b[0;34m\u001b[0m\u001b[0m\n",
            "\u001b[0;31mKeyError\u001b[0m: 1"
          ]
        }
      ]
    },
    {
      "cell_type": "code",
      "source": [
        "new_df = pd.DataFrame([y_test, predictions]).T\n",
        "new_df"
      ],
      "metadata": {
        "colab": {
          "base_uri": "https://localhost:8080/",
          "height": 424
        },
        "id": "zkzuCTuEWjSc",
        "outputId": "cf3aa263-d6bb-4d56-cf0b-fa288dcf28b1"
      },
      "execution_count": 52,
      "outputs": [
        {
          "output_type": "execute_result",
          "data": {
            "text/plain": [
              "          charges      Unnamed 0\n",
              "426    6555.07035            NaN\n",
              "86    43578.93940  331270.996297\n",
              "69    17663.14420  479949.369868\n",
              "474   25382.29700            NaN\n",
              "1174   4433.91590            NaN\n",
              "...           ...            ...\n",
              "667   40003.33225            NaN\n",
              "45    20630.28351  495673.408895\n",
              "372    7639.41745            NaN\n",
              "98    22412.64850  282049.629549\n",
              "96    12105.32000  442000.682215\n",
              "\n",
              "[268 rows x 2 columns]"
            ],
            "text/html": [
              "\n",
              "  <div id=\"df-78c72906-ef3c-4d60-a1d2-5fd8d769363c\">\n",
              "    <div class=\"colab-df-container\">\n",
              "      <div>\n",
              "<style scoped>\n",
              "    .dataframe tbody tr th:only-of-type {\n",
              "        vertical-align: middle;\n",
              "    }\n",
              "\n",
              "    .dataframe tbody tr th {\n",
              "        vertical-align: top;\n",
              "    }\n",
              "\n",
              "    .dataframe thead th {\n",
              "        text-align: right;\n",
              "    }\n",
              "</style>\n",
              "<table border=\"1\" class=\"dataframe\">\n",
              "  <thead>\n",
              "    <tr style=\"text-align: right;\">\n",
              "      <th></th>\n",
              "      <th>charges</th>\n",
              "      <th>Unnamed 0</th>\n",
              "    </tr>\n",
              "  </thead>\n",
              "  <tbody>\n",
              "    <tr>\n",
              "      <th>426</th>\n",
              "      <td>6555.07035</td>\n",
              "      <td>NaN</td>\n",
              "    </tr>\n",
              "    <tr>\n",
              "      <th>86</th>\n",
              "      <td>43578.93940</td>\n",
              "      <td>331270.996297</td>\n",
              "    </tr>\n",
              "    <tr>\n",
              "      <th>69</th>\n",
              "      <td>17663.14420</td>\n",
              "      <td>479949.369868</td>\n",
              "    </tr>\n",
              "    <tr>\n",
              "      <th>474</th>\n",
              "      <td>25382.29700</td>\n",
              "      <td>NaN</td>\n",
              "    </tr>\n",
              "    <tr>\n",
              "      <th>1174</th>\n",
              "      <td>4433.91590</td>\n",
              "      <td>NaN</td>\n",
              "    </tr>\n",
              "    <tr>\n",
              "      <th>...</th>\n",
              "      <td>...</td>\n",
              "      <td>...</td>\n",
              "    </tr>\n",
              "    <tr>\n",
              "      <th>667</th>\n",
              "      <td>40003.33225</td>\n",
              "      <td>NaN</td>\n",
              "    </tr>\n",
              "    <tr>\n",
              "      <th>45</th>\n",
              "      <td>20630.28351</td>\n",
              "      <td>495673.408895</td>\n",
              "    </tr>\n",
              "    <tr>\n",
              "      <th>372</th>\n",
              "      <td>7639.41745</td>\n",
              "      <td>NaN</td>\n",
              "    </tr>\n",
              "    <tr>\n",
              "      <th>98</th>\n",
              "      <td>22412.64850</td>\n",
              "      <td>282049.629549</td>\n",
              "    </tr>\n",
              "    <tr>\n",
              "      <th>96</th>\n",
              "      <td>12105.32000</td>\n",
              "      <td>442000.682215</td>\n",
              "    </tr>\n",
              "  </tbody>\n",
              "</table>\n",
              "<p>268 rows × 2 columns</p>\n",
              "</div>\n",
              "      <button class=\"colab-df-convert\" onclick=\"convertToInteractive('df-78c72906-ef3c-4d60-a1d2-5fd8d769363c')\"\n",
              "              title=\"Convert this dataframe to an interactive table.\"\n",
              "              style=\"display:none;\">\n",
              "        \n",
              "  <svg xmlns=\"http://www.w3.org/2000/svg\" height=\"24px\"viewBox=\"0 0 24 24\"\n",
              "       width=\"24px\">\n",
              "    <path d=\"M0 0h24v24H0V0z\" fill=\"none\"/>\n",
              "    <path d=\"M18.56 5.44l.94 2.06.94-2.06 2.06-.94-2.06-.94-.94-2.06-.94 2.06-2.06.94zm-11 1L8.5 8.5l.94-2.06 2.06-.94-2.06-.94L8.5 2.5l-.94 2.06-2.06.94zm10 10l.94 2.06.94-2.06 2.06-.94-2.06-.94-.94-2.06-.94 2.06-2.06.94z\"/><path d=\"M17.41 7.96l-1.37-1.37c-.4-.4-.92-.59-1.43-.59-.52 0-1.04.2-1.43.59L10.3 9.45l-7.72 7.72c-.78.78-.78 2.05 0 2.83L4 21.41c.39.39.9.59 1.41.59.51 0 1.02-.2 1.41-.59l7.78-7.78 2.81-2.81c.8-.78.8-2.07 0-2.86zM5.41 20L4 18.59l7.72-7.72 1.47 1.35L5.41 20z\"/>\n",
              "  </svg>\n",
              "      </button>\n",
              "      \n",
              "  <style>\n",
              "    .colab-df-container {\n",
              "      display:flex;\n",
              "      flex-wrap:wrap;\n",
              "      gap: 12px;\n",
              "    }\n",
              "\n",
              "    .colab-df-convert {\n",
              "      background-color: #E8F0FE;\n",
              "      border: none;\n",
              "      border-radius: 50%;\n",
              "      cursor: pointer;\n",
              "      display: none;\n",
              "      fill: #1967D2;\n",
              "      height: 32px;\n",
              "      padding: 0 0 0 0;\n",
              "      width: 32px;\n",
              "    }\n",
              "\n",
              "    .colab-df-convert:hover {\n",
              "      background-color: #E2EBFA;\n",
              "      box-shadow: 0px 1px 2px rgba(60, 64, 67, 0.3), 0px 1px 3px 1px rgba(60, 64, 67, 0.15);\n",
              "      fill: #174EA6;\n",
              "    }\n",
              "\n",
              "    [theme=dark] .colab-df-convert {\n",
              "      background-color: #3B4455;\n",
              "      fill: #D2E3FC;\n",
              "    }\n",
              "\n",
              "    [theme=dark] .colab-df-convert:hover {\n",
              "      background-color: #434B5C;\n",
              "      box-shadow: 0px 1px 3px 1px rgba(0, 0, 0, 0.15);\n",
              "      filter: drop-shadow(0px 1px 2px rgba(0, 0, 0, 0.3));\n",
              "      fill: #FFFFFF;\n",
              "    }\n",
              "  </style>\n",
              "\n",
              "      <script>\n",
              "        const buttonEl =\n",
              "          document.querySelector('#df-78c72906-ef3c-4d60-a1d2-5fd8d769363c button.colab-df-convert');\n",
              "        buttonEl.style.display =\n",
              "          google.colab.kernel.accessAllowed ? 'block' : 'none';\n",
              "\n",
              "        async function convertToInteractive(key) {\n",
              "          const element = document.querySelector('#df-78c72906-ef3c-4d60-a1d2-5fd8d769363c');\n",
              "          const dataTable =\n",
              "            await google.colab.kernel.invokeFunction('convertToInteractive',\n",
              "                                                     [key], {});\n",
              "          if (!dataTable) return;\n",
              "\n",
              "          const docLinkHtml = 'Like what you see? Visit the ' +\n",
              "            '<a target=\"_blank\" href=https://colab.research.google.com/notebooks/data_table.ipynb>data table notebook</a>'\n",
              "            + ' to learn more about interactive tables.';\n",
              "          element.innerHTML = '';\n",
              "          dataTable['output_type'] = 'display_data';\n",
              "          await google.colab.output.renderOutput(dataTable, element);\n",
              "          const docLink = document.createElement('div');\n",
              "          docLink.innerHTML = docLinkHtml;\n",
              "          element.appendChild(docLink);\n",
              "        }\n",
              "      </script>\n",
              "    </div>\n",
              "  </div>\n",
              "  "
            ]
          },
          "metadata": {},
          "execution_count": 52
        }
      ]
    },
    {
      "cell_type": "code",
      "source": [
        "r2 = sklearn.metrics.r2_score(y_test, lineer_pred)\n",
        "r2"
      ],
      "metadata": {
        "colab": {
          "base_uri": "https://localhost:8080/"
        },
        "id": "40ItKjF_UyBi",
        "outputId": "c7a947ec-482b-4189-d48c-195f7fd1c471"
      },
      "execution_count": null,
      "outputs": [
        {
          "output_type": "execute_result",
          "data": {
            "text/plain": [
              "-864.6052785989692"
            ]
          },
          "metadata": {},
          "execution_count": 50
        }
      ]
    },
    {
      "cell_type": "code",
      "source": [
        "mse = sklearn.metrics.mean_squared_error(y_test, lineer_pred)\n",
        "mse"
      ],
      "metadata": {
        "colab": {
          "base_uri": "https://localhost:8080/"
        },
        "id": "mIwMFGW7Ux-0",
        "outputId": "8e542dde-8bcf-4c93-cc97-23955d7e631c"
      },
      "execution_count": null,
      "outputs": [
        {
          "output_type": "execute_result",
          "data": {
            "text/plain": [
              "133300005224.20793"
            ]
          },
          "metadata": {},
          "execution_count": 51
        }
      ]
    }
  ]
}